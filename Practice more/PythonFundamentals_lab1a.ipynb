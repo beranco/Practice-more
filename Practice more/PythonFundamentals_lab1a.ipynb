{
 "cells": [
  {
   "cell_type": "markdown",
   "metadata": {},
   "source": [
    "1. What is the output of the following print statements? \n",
    "* print(\"\\ta\\tb\\tc\") \n",
    "* print(\"\\\\\\\\\") \n",
    "* print(\"'\") \n",
    "* print(\"\\\"\\\"\\\"\") \n",
    "* print(\"C:\\nin\\the downward spiral\") "
   ]
  },
  {
   "cell_type": "code",
   "execution_count": 1,
   "metadata": {},
   "outputs": [
    {
     "name": "stdout",
     "output_type": "stream",
     "text": [
      "\ta\tb\tc\n"
     ]
    }
   ],
   "source": [
    "print(\"\\ta\\tb\\tc\")"
   ]
  },
  {
   "cell_type": "code",
   "execution_count": 2,
   "metadata": {},
   "outputs": [
    {
     "name": "stdout",
     "output_type": "stream",
     "text": [
      "\\\\\n"
     ]
    }
   ],
   "source": [
    "print(\"\\\\\\\\\") "
   ]
  },
  {
   "cell_type": "code",
   "execution_count": 3,
   "metadata": {},
   "outputs": [
    {
     "name": "stdout",
     "output_type": "stream",
     "text": [
      "'\n"
     ]
    }
   ],
   "source": [
    "print(\"'\") "
   ]
  },
  {
   "cell_type": "code",
   "execution_count": 4,
   "metadata": {},
   "outputs": [
    {
     "name": "stdout",
     "output_type": "stream",
     "text": [
      "\"\"\"\n"
     ]
    }
   ],
   "source": [
    "print(\"\\\"\\\"\\\"\")  "
   ]
  },
  {
   "cell_type": "code",
   "execution_count": 5,
   "metadata": {},
   "outputs": [
    {
     "name": "stdout",
     "output_type": "stream",
     "text": [
      "C:\n",
      "in\the downward spiral\n"
     ]
    }
   ],
   "source": [
    "print(\"C:\\nin\\the downward spiral\")"
   ]
  },
  {
   "cell_type": "markdown",
   "metadata": {},
   "source": [
    "### 2. Write a print statement to produce this output: \n",
    "\n",
    "/ \\ // \\\\ /// \\\\\\ "
   ]
  },
  {
   "cell_type": "code",
   "execution_count": 2,
   "metadata": {},
   "outputs": [
    {
     "name": "stdout",
     "output_type": "stream",
     "text": [
      "/\\//\\///\\\\\n"
     ]
    }
   ],
   "source": [
    "print(\"/\\//\\///\\\\\\\\\")"
   ]
  },
  {
   "cell_type": "markdown",
   "metadata": {},
   "source": [
    "### 3. What print statements will generate this output? \n",
    "This quote is from  \n",
    "\n",
    "Irish poet Oscar Wilde: \n",
    "\n",
    "\"Music makes one feel so romantic \n",
    "\n",
    " at least it always gets on one's nerves – \n",
    "\n",
    "which is the same thing nowadays.\" "
   ]
  },
  {
   "cell_type": "code",
   "execution_count": 6,
   "metadata": {},
   "outputs": [
    {
     "name": "stdout",
     "output_type": "stream",
     "text": [
      "This quote is from \n",
      "Irish poet Oscar Wilde: \n",
      "\"Music makes one feel so romantic \n",
      "- at least it always gets on ones nerves -\n",
      " which is the same thing nowadays.\"\n"
     ]
    }
   ],
   "source": [
    "print('This quote is from \\nIrish poet Oscar Wilde: \\n\"Music makes one feel so romantic \\n- at least it always gets on one''s nerves -\\n which is the same thing nowadays.\"')"
   ]
  },
  {
   "cell_type": "markdown",
   "metadata": {},
   "source": [
    "### 4. What print statements will generate this output? \n",
    "A \"quoted\" String is \n",
    "\n",
    "'much' better if you learn \n",
    "\n",
    "the rules of \"escape sequences.\" \n",
    "\n",
    "Also, \"\" represents an empty String.\n",
    "\n",
    "Don't forget: use \\\" instead of \" ! \n",
    "\n",
    "'' is not the same as \" "
   ]
  },
  {
   "cell_type": "code",
   "execution_count": 14,
   "metadata": {},
   "outputs": [
    {
     "name": "stdout",
     "output_type": "stream",
     "text": [
      "A quoted String is \n",
      "'much' better if you learn \n",
      "the rules of escape sequences. \n",
      "Also,  represents an empty String. \n",
      "Don't forget: use \\  instead of  ! \n",
      "'' is not the same as \n"
     ]
    }
   ],
   "source": [
    "print(\"A \"\"quoted\"\" String is \\n'much' better if you learn \\nthe rules of \"\"escape sequences.\"\" \\nAlso, \"\" represents an empty String. \\nDon't forget: use \\ \"\" instead of \"\" ! \\n'' is not the same as \"\"\")"
   ]
  },
  {
   "cell_type": "markdown",
   "metadata": {},
   "source": [
    "### 5.  What values result from the following expressions? \n",
    "* 9 / 5 \n",
    "* 695 % 20 \n",
    "* 7 + 6 * 5 \n",
    "* 7 * 6 + 5 \n",
    "* 248 % 100 / 5 \n",
    "* 6 * 3 - 9 / 4 \n",
    "* (5 - 7) * 4 \n",
    "* 6 + (18 % (17 - 12)) "
   ]
  },
  {
   "cell_type": "code",
   "execution_count": 20,
   "metadata": {},
   "outputs": [
    {
     "name": "stdout",
     "output_type": "stream",
     "text": [
      "9/5:  1.8\n",
      "695 % 20: 15\n",
      "7 + 6 * 5:  37\n",
      "7 * 6 + 5:  47\n",
      "248 % 100 / 5:  9.6\n",
      "6 * 3 - 9 / 4:  15.75\n",
      "(5 - 7) * 4:  -8\n",
      "6 + (18 % (17 - 12)):  9\n"
     ]
    }
   ],
   "source": [
    "print(\"9/5: \", 9/5)\n",
    "print(\"695 % 20:\", 695 % 20)\n",
    "a = 7\n",
    "b = 6\n",
    "c = 5\n",
    "print(\"7 + 6 * 5: \", a+b*c)\n",
    "print(\"7 * 6 + 5: \", a*b+c)\n",
    "print(\"248 % 100 / 5: \", 248 % 100 / 5)\n",
    "print(\"6 * 3 - 9 / 4: \", 6 * 3 - 9 / 4 )\n",
    "print(\"(5 - 7) * 4: \", (5 - 7) * 4)\n",
    "print(\"6 + (18 % (17 - 12)): \", 6 + (18 % (17 - 12)))\n"
   ]
  }
 ],
 "metadata": {
  "kernelspec": {
   "display_name": "Python 3.9.7 64-bit",
   "language": "python",
   "name": "python3"
  },
  "language_info": {
   "codemirror_mode": {
    "name": "ipython",
    "version": 3
   },
   "file_extension": ".py",
   "mimetype": "text/x-python",
   "name": "python",
   "nbconvert_exporter": "python",
   "pygments_lexer": "ipython3",
   "version": "3.9.7"
  },
  "orig_nbformat": 4,
  "vscode": {
   "interpreter": {
    "hash": "f44a971b6fee70a18eb961a728c4c2bf164ef47e0339fc88364546047bf7704d"
   }
  }
 },
 "nbformat": 4,
 "nbformat_minor": 2
}
