{
 "cells": [
  {
   "attachments": {},
   "cell_type": "markdown",
   "metadata": {},
   "source": [
    "Create a Python file called TicketSystem.py for the task of representing tickets to campus events. Each ticket has a price and a unique number.\n",
    "\n",
    "In the Python file, implement a class called Ticket and its child class class StudentTicket and define the following operations:\n",
    "\n",
    "**For Ticket**:\n",
    "\n",
    "1. The ability to construct a standard ticket by ticket number and ticket price.\n",
    "2. The ability to ask for a ticket’s price.\n",
    "3. The ability to print a ticket object as a String.\n",
    "4. An example client program interaction:\n",
    "\n",
    ">> T1 = Ticket(17, 50.0)\n",
    ">> T1.getPrice()\n",
    ">> 50.0\n",
    ">> T1.toString()\n",
    ">>\"Number: 17, Price: 50.0\"\n",
    "\n",
    "**For StudentTicket**:\n",
    "\n",
    "1. The ability to construct a student ticket by ticket number, standard ticket price and ticket holder's name. Note that the actual price of a student ticket is the half of the standard price.\n",
    "2. The ability to ask for a ticket’s price.\n",
    "3. The ability to print a ticket object as a String.\n",
    "4. An example client program interaction:\n",
    "\n",
    ">> T2 = StudentTicket(17, 50.0, 'Tom')\n",
    ">> T2.getPrice()\n",
    ">> 25.0\n",
    ">> T2.toString()\n",
    ">>\"Number: 17, Price: 25.0, ID required for Tom\""
   ]
  },
  {
   "cell_type": "code",
   "execution_count": 8,
   "metadata": {},
   "outputs": [],
   "source": [
    "class Ticket:\n",
    "    def __init__(self, ticketNumber, ticketPrice):\n",
    "        self.ticketNumber = ticketNumber\n",
    "        self.ticketPrice = ticketPrice\n",
    "    def getNumber(self):\n",
    "        return self.ticketNumber\n",
    "    def getPrice(self):\n",
    "        return self.ticketPrice\n",
    "    def toString(self):\n",
    "        return f\"Number: {self.ticketNumber}, Price: {self.ticketPrice}\""
   ]
  },
  {
   "cell_type": "code",
   "execution_count": 9,
   "metadata": {},
   "outputs": [
    {
     "data": {
      "text/plain": [
       "17"
      ]
     },
     "execution_count": 9,
     "metadata": {},
     "output_type": "execute_result"
    }
   ],
   "source": [
    "T1 = Ticket(17, 50.0)\n",
    "T1.getNumber()"
   ]
  },
  {
   "cell_type": "code",
   "execution_count": 10,
   "metadata": {},
   "outputs": [
    {
     "data": {
      "text/plain": [
       "50.0"
      ]
     },
     "execution_count": 10,
     "metadata": {},
     "output_type": "execute_result"
    }
   ],
   "source": [
    "T1.getPrice()"
   ]
  },
  {
   "cell_type": "code",
   "execution_count": 11,
   "metadata": {},
   "outputs": [
    {
     "data": {
      "text/plain": [
       "'Number: 17, Price: 50.0'"
      ]
     },
     "execution_count": 11,
     "metadata": {},
     "output_type": "execute_result"
    }
   ],
   "source": [
    "T1.toString()"
   ]
  },
  {
   "cell_type": "code",
   "execution_count": 12,
   "metadata": {},
   "outputs": [],
   "source": [
    "class StudentTicket(Ticket):\n",
    "    def __init__(self, ticketNumber, ticketPrice, name):\n",
    "        super().__init__(ticketNumber, ticketPrice)\n",
    "        self.name = name\n",
    "    def getName(self):\n",
    "        return self.name\n",
    "    def getPrice(self):\n",
    "        return super(StudentTicket, self).getPrice() / 2\n",
    "    def toString(self):\n",
    "        return f\"Number: {self.ticketNumber}, Price: {self.ticketPrice}, ID required for {self.name}\""
   ]
  },
  {
   "cell_type": "code",
   "execution_count": 13,
   "metadata": {},
   "outputs": [
    {
     "name": "stdout",
     "output_type": "stream",
     "text": [
      "UserName: Tom\n",
      "\n",
      "Student Price: 25.0\n",
      "\n",
      "All information: Number: 17, Price: 50.0, ID required for Tom\n"
     ]
    }
   ],
   "source": [
    "T2 = StudentTicket(17, 50.0, 'Tom')\n",
    "print(f\"UserName: {T2.getName()}\")\n",
    "print()\n",
    "print(f\"Student Price: {T2.getPrice()}\")\n",
    "print()\n",
    "print(f\"All information: {T2.toString()}\")"
   ]
  },
  {
   "cell_type": "code",
   "execution_count": null,
   "metadata": {},
   "outputs": [],
   "source": []
  }
 ],
 "metadata": {
  "kernelspec": {
   "display_name": "Python 3",
   "language": "python",
   "name": "python3"
  },
  "language_info": {
   "codemirror_mode": {
    "name": "ipython",
    "version": 3
   },
   "file_extension": ".py",
   "mimetype": "text/x-python",
   "name": "python",
   "nbconvert_exporter": "python",
   "pygments_lexer": "ipython3",
   "version": "3.9.7"
  },
  "orig_nbformat": 4,
  "vscode": {
   "interpreter": {
    "hash": "f44a971b6fee70a18eb961a728c4c2bf164ef47e0339fc88364546047bf7704d"
   }
  }
 },
 "nbformat": 4,
 "nbformat_minor": 2
}
