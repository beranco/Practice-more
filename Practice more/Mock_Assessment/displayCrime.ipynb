{
 "cells": [
  {
   "attachments": {},
   "cell_type": "markdown",
   "metadata": {},
   "source": [
    "Create a program _displayCrime.py_ to read the data file. Your program should prompt the user for a city and a crime code. The program will then find the number of crimes in the city. e.g.:\n",
    "\n",
    "_City_: manchester\n",
    "\n",
    "_Crime code_: 77\n",
    "\n",
    "The program should display the crime data about the city:\n",
    "\n",
    "harassment in manchester: 3"
   ]
  },
  {
   "cell_type": "code",
   "execution_count": 23,
   "metadata": {},
   "outputs": [
    {
     "name": "stdout",
     "output_type": "stream",
     "text": [
      "harassment in manchester: 3\n"
     ]
    }
   ],
   "source": [
    "def main():\n",
    "    city = input(\"City: \")\n",
    "    crime_code = input(\"Crime code: \")\n",
    "    crime_data = read_crime_data()\n",
    "    display_crime_data(crime_data, city, crime_code)\n",
    "\n",
    "def read_crime_data():\n",
    "    crime_data = {}\n",
    "    with open(\"crimedata.txt\") as f:\n",
    "        for line in f:\n",
    "            line = line.strip()\n",
    "            crime_id, city, crime_type, crime_code = line.split(\"\\t\")\n",
    "            crime_data[crime_id] = (city, crime_type, crime_code)\n",
    "    return crime_data\n",
    "\n",
    "def display_crime_data(crime_data, city, crime_code):\n",
    "    count = 0\n",
    "    for crime_id in crime_data:\n",
    "        if crime_data[crime_id][0] == city and crime_data[crime_id][2] == crime_code:\n",
    "            count += 1\n",
    "            crime_type = crime_data[crime_id][1]\n",
    "    print(\"{} in {}: {}\".format(crime_type, city, count))\n",
    "\n",
    "main()\n"
   ]
  },
  {
   "cell_type": "code",
   "execution_count": null,
   "metadata": {},
   "outputs": [],
   "source": []
  }
 ],
 "metadata": {
  "kernelspec": {
   "display_name": "Python 3",
   "language": "python",
   "name": "python3"
  },
  "language_info": {
   "codemirror_mode": {
    "name": "ipython",
    "version": 3
   },
   "file_extension": ".py",
   "mimetype": "text/x-python",
   "name": "python",
   "nbconvert_exporter": "python",
   "pygments_lexer": "ipython3",
   "version": "3.9.7"
  },
  "orig_nbformat": 4,
  "vscode": {
   "interpreter": {
    "hash": "f44a971b6fee70a18eb961a728c4c2bf164ef47e0339fc88364546047bf7704d"
   }
  }
 },
 "nbformat": 4,
 "nbformat_minor": 2
}
