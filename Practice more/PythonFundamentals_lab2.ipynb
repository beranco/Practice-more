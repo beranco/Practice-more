{
 "cells": [
  {
   "cell_type": "markdown",
   "metadata": {},
   "source": [
    "### 1. Write a program that ask the user to input a number and sorts  integers into  one  of  three  categories:  perfect,  abundant,  or  deficient."
   ]
  },
  {
   "cell_type": "code",
   "execution_count": 4,
   "metadata": {},
   "outputs": [
    {
     "name": "stdout",
     "output_type": "stream",
     "text": [
      "496 is perfect\n"
     ]
    }
   ],
   "source": [
    "user = int(input(\"Please enter a number to check: \"))\n",
    "sum = 0\n",
    "for i in range(1,user):\n",
    "    if (user % i == 0):\n",
    "        sum += i\n",
    "if sum == user:\n",
    "    print(user, \"is perfect\")\n",
    "elif sum > user:\n",
    "    print(user, \"is Abundant\")\n",
    "else:\n",
    "    print(user, \"is Deficient\")"
   ]
  },
  {
   "cell_type": "markdown",
   "metadata": {},
   "source": [
    "### 2. Continuing on task 1, we would like to check a whole range of number and decide what each number is: abundant, deficient, or perfect. In this way we can look for more perfect numbers. "
   ]
  },
  {
   "cell_type": "code",
   "execution_count": 9,
   "metadata": {},
   "outputs": [
    {
     "name": "stdout",
     "output_type": "stream",
     "text": [
      "[2]\n",
      "[2, 3]\n",
      "[2, 3, 4]\n",
      "[2, 3, 4, 5]\n",
      "[2, 3, 4, 5, 6]\n",
      "[2, 3, 4, 5, 6, 7]\n",
      "[2, 3, 4, 5, 6, 7, 8]\n",
      "[2, 3, 4, 5, 6, 7, 8, 9]\n",
      "[2, 3, 4, 5, 6, 7, 8, 9, 10]\n"
     ]
    }
   ],
   "source": [
    "user = int(input(\"What is the upper number for the range: \"))\n",
    "sumn = []\n",
    "\n",
    "for x in range(2, user + 1):\n",
    "    sumn.append(x)\n",
    "\n",
    "for y in sumn:\n",
    "    divisor = []\n",
    "    if y % x == 0:\n",
    "\n",
    "    \n",
    "\n",
    "\n",
    "\n",
    "\n",
    "\n",
    "\n"
   ]
  },
  {
   "cell_type": "code",
   "execution_count": null,
   "metadata": {},
   "outputs": [],
   "source": []
  }
 ],
 "metadata": {
  "interpreter": {
   "hash": "2214e8dd62459074908a99404395d337061d4357bdd4e7c9f6f5f8f61b5651c8"
  },
  "kernelspec": {
   "display_name": "Python 3.10.0 64-bit",
   "language": "python",
   "name": "python3"
  },
  "language_info": {
   "codemirror_mode": {
    "name": "ipython",
    "version": 3
   },
   "file_extension": ".py",
   "mimetype": "text/x-python",
   "name": "python",
   "nbconvert_exporter": "python",
   "pygments_lexer": "ipython3",
   "version": "3.10.0"
  },
  "orig_nbformat": 4
 },
 "nbformat": 4,
 "nbformat_minor": 2
}
