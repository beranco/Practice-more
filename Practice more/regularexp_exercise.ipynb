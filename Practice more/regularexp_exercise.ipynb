{
 "cells": [
  {
   "cell_type": "markdown",
   "metadata": {},
   "source": [
    "### 1. Validating UK postcodes \n",
    "In general, the UK postcode format is one of \"A9 9AA\", \"A99 9AA\", \"AA9 9AA\", \"AA99 9AA\", \"A9A 9AA\" or \"AA9A 9AA\", where A is an alphabetic character and 9 is a numeric character. \n",
    " \n",
    "Write a Python program to validate postcode input for each of these formats. \n",
    " \n",
    "Hints: \n",
    "* Convert each format into a regular expression; \n",
    "* Use  the  method  re.match()  to  check  if  the  input  string  matches  the  first  regular expression, in which case print a confirmation message, e.g. \n",
    "\n",
    "        print(\"valid postcode\")       \n",
    "* Add code to validate and confirm matches to each of the formats. "
   ]
  },
  {
   "cell_type": "code",
   "execution_count": 3,
   "metadata": {},
   "outputs": [
    {
     "name": "stdout",
     "output_type": "stream",
     "text": [
      "Invalid Postcode\n"
     ]
    }
   ],
   "source": [
    "import re\n",
    "\n",
    "def validate_postcode(code):\n",
    "    pattern = 'not matched'\n",
    "    if len(code.replace(\" \", \"\")) == 5:\n",
    "        pattern = re.compile(\"^[a-zA-Z]{1}[0-9]{2}[a-zA-Z]{2}\")\n",
    "    elif len(code.replace(\" \", \"\")) == 6:\n",
    "        pattern = re.compile(\"^[a-zA-Z]{2}[0-9]{2}[a-zA-Z]{2}\")\n",
    "    elif len(code.replace(\" \", \"\")) == 7:\n",
    "        pattern = re.compile(\"^[a-zA-Z]{2}[0-9]{3}[a-zA-Z]{2}\")\n",
    "    \n",
    "    if pattern != 'not matched':\n",
    "        if pattern.match(code):\n",
    "            print(\"Valid Postcode\")\n",
    "        else:\n",
    "            print(\"Invalid Postcode\")\n",
    "\n",
    "validate_postcode(\"BD7 1QR\")"
   ]
  },
  {
   "cell_type": "markdown",
   "metadata": {},
   "source": [
    "### 2. Splitting a string \n",
    "Write  a  Python  program  that  splits      re.split()    an  input  string  into  substrings around matches to a given regular expression.\n",
    "\n",
    "Hints: \n",
    "\n",
    "* Try first to split the constant string \"11,22,44\" according to matches to the regular \n",
    "expression \",\": \n",
    " \n",
    "        sp =re.split(‘,’,’11,22,44’) \n",
    " \n",
    "* Use a loop to print each substring sp[i] separately; "
   ]
  },
  {
   "cell_type": "code",
   "execution_count": 4,
   "metadata": {},
   "outputs": [
    {
     "name": "stdout",
     "output_type": "stream",
     "text": [
      "11\n",
      "22\n",
      "44\n"
     ]
    }
   ],
   "source": [
    "ll2 = \"11,22,44\"\n",
    "sp = re.split(\",\", ll2)\n",
    "\n",
    "for i in range(3):\n",
    "    print(sp[i])"
   ]
  }
 ],
 "metadata": {
  "kernelspec": {
   "display_name": "Python 3.9.7 64-bit",
   "language": "python",
   "name": "python3"
  },
  "language_info": {
   "codemirror_mode": {
    "name": "ipython",
    "version": 3
   },
   "file_extension": ".py",
   "mimetype": "text/x-python",
   "name": "python",
   "nbconvert_exporter": "python",
   "pygments_lexer": "ipython3",
   "version": "3.9.7"
  },
  "orig_nbformat": 4,
  "vscode": {
   "interpreter": {
    "hash": "f44a971b6fee70a18eb961a728c4c2bf164ef47e0339fc88364546047bf7704d"
   }
  }
 },
 "nbformat": 4,
 "nbformat_minor": 2
}
