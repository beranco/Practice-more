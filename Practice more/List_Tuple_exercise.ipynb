{
 "cells": [
  {
   "cell_type": "markdown",
   "metadata": {},
   "source": [
    "### 1. Write a program that finds the maximum value of the given list, assuming that the list contains at least one element. "
   ]
  },
  {
   "cell_type": "code",
   "execution_count": 1,
   "metadata": {},
   "outputs": [
    {
     "data": {
      "text/plain": [
       "23"
      ]
     },
     "execution_count": 1,
     "metadata": {},
     "output_type": "execute_result"
    }
   ],
   "source": [
    "list = [2,4,7,4,23,5,1,4,8,9]\n",
    "max(list)"
   ]
  },
  {
   "cell_type": "markdown",
   "metadata": {},
   "source": [
    "### 2. Write a program that calculates the average value of the given list."
   ]
  },
  {
   "cell_type": "code",
   "execution_count": 2,
   "metadata": {},
   "outputs": [
    {
     "data": {
      "text/plain": [
       "24.6"
      ]
     },
     "execution_count": 2,
     "metadata": {},
     "output_type": "execute_result"
    }
   ],
   "source": [
    "list = [4, 7, 1, 5, 11, 53, 12, 46, 84, 23]\n",
    "avg = sum(list) / len(list)\n",
    "avg"
   ]
  },
  {
   "cell_type": "markdown",
   "metadata": {},
   "source": [
    "### 3. Write a program that prints the given list of integers in reverse order."
   ]
  },
  {
   "cell_type": "code",
   "execution_count": 3,
   "metadata": {},
   "outputs": [
    {
     "data": {
      "text/plain": [
       "[5, 89, 45, 14, 53, 23, 45, 7, 6, 2]"
      ]
     },
     "execution_count": 3,
     "metadata": {},
     "output_type": "execute_result"
    }
   ],
   "source": [
    "list = [2,6,7,45,23,53,14,45,89,5]\n",
    "list.reverse()\n",
    "list"
   ]
  },
  {
   "cell_type": "markdown",
   "metadata": {},
   "source": [
    "### 4. Write a program that accepts two lists of integers and prints true if each element in the first list is less than the element at the same index in the second list. Your program should print false if the lists are not the same length."
   ]
  },
  {
   "cell_type": "code",
   "execution_count": 9,
   "metadata": {},
   "outputs": [
    {
     "name": "stdout",
     "output_type": "stream",
     "text": [
      "True\n"
     ]
    }
   ],
   "source": [
    "a,b = [2,4,3,4,8], [1,3,4,5]\n",
    "c = 0\n",
    "if len(a) == len(b):\n",
    "    for i in range(len(a)):\n",
    "        if a[i] > b[i]:\n",
    "            c += 1\n",
    "        else:\n",
    "            c = c\n",
    "    \n",
    "    if c == len(a):\n",
    "        print(True)\n",
    "    else:\n",
    "        print(False)\n",
    "\n",
    "else:\n",
    "    print(True)"
   ]
  },
  {
   "cell_type": "code",
   "execution_count": 11,
   "metadata": {},
   "outputs": [
    {
     "name": "stdout",
     "output_type": "stream",
     "text": [
      "False\n"
     ]
    }
   ],
   "source": [
    "def check1(a,b):\n",
    "   c = 0\n",
    "   if len(a) == len(b):\n",
    "       for i in range(len(a)):\n",
    "           if a[i] < b[i]:\n",
    "               c=c+1\n",
    "           else:\n",
    "               c=c\n",
    "       if c == len(a):\n",
    "           return True\n",
    "       else:\n",
    "           return False\n",
    "   else:\n",
    "       return False\n",
    "\n",
    "a = [int(x) for x in input('Enter integer list 1: ').split()]\n",
    "b = [int(y) for y in input('Enter integer list 2: ').split()]\n",
    "\n",
    "print(check1(a,b))"
   ]
  },
  {
   "cell_type": "markdown",
   "metadata": {},
   "source": [
    "### 5. Write a program that accepts a list of integers and two indexes and swaps the elements at those indexes "
   ]
  },
  {
   "cell_type": "code",
   "execution_count": 12,
   "metadata": {},
   "outputs": [
    {
     "name": "stdout",
     "output_type": "stream",
     "text": [
      "[19, 65, 23, 90]\n"
     ]
    }
   ],
   "source": [
    "def swappositions(list, pos1, pos2):\n",
    "    list[pos1], list[pos2] = list[pos2], list[pos1]\n",
    "    return list\n",
    "\n",
    "List = [23, 65, 19, 90]\n",
    "pos1, pos2 = 1,3\n",
    "\n",
    "print(swappositions(List, pos1-1, pos2-1))"
   ]
  },
  {
   "cell_type": "code",
   "execution_count": 17,
   "metadata": {},
   "outputs": [
    {
     "name": "stdout",
     "output_type": "stream",
     "text": [
      "index out of bound\n",
      "[234567]\n"
     ]
    }
   ],
   "source": [
    "def swap1(a,x,y):\n",
    "   if x < len(a) and y < len(a): \n",
    "       c = a[x]\n",
    "       a[x] = a[y]\n",
    "       a[y] = c\n",
    "   else:\n",
    "       print('index out of bound')\n",
    "a = [int(x) for x in input('Enter an integer list: ').split()]\n",
    "x = int(input('Enter index 1: '))\n",
    "y = int(input('Enter index 2: '))\n",
    "swap1(a,x,y)\n",
    "print(a)"
   ]
  },
  {
   "cell_type": "markdown",
   "metadata": {},
   "source": [
    "### 6. Write a program that accepts two lists of integers and prints a new list containing all elements of the first list followed by all elements of the second. "
   ]
  },
  {
   "cell_type": "code",
   "execution_count": 18,
   "metadata": {},
   "outputs": [
    {
     "name": "stdout",
     "output_type": "stream",
     "text": [
      "[1234, 5678]\n"
     ]
    }
   ],
   "source": [
    "def add(a,b):\n",
    "    return a+b\n",
    "a = [int(x) for x in input('Enter integer list 1: ').split()]\n",
    "b = [int(y) for y in input('Enter integer list 2: ').split()]\n",
    "print(add(a,b))"
   ]
  },
  {
   "cell_type": "markdown",
   "metadata": {},
   "source": [
    "### 7. Write a program that accepts a list of integers and an integer value as its parameters and prints the last index at which the value occurs in the list. The program should print –1 if the value is not found. For example, in the list [74, 85, 102, 99, 101, 85, 56], the last index of the value 85 is 5. "
   ]
  },
  {
   "cell_type": "code",
   "execution_count": 20,
   "metadata": {},
   "outputs": [
    {
     "name": "stdout",
     "output_type": "stream",
     "text": [
      "6\n"
     ]
    }
   ],
   "source": [
    "def myIndex(a, num):\n",
    "   if a.count(num) > 0:\n",
    "       i = a.index(num)\n",
    "       while a[(i+1):].count(num) > 0:\n",
    "           i = i + 1 + a[(i+1):].index(num)\n",
    "       return i\n",
    "   else:\n",
    "       return -1\n",
    "a = [74,85,102,99,101,85,56]\n",
    "print(myIndex(a,56))"
   ]
  },
  {
   "cell_type": "markdown",
   "metadata": {},
   "source": [
    "### 8. Write a program that prints the range of values in a list of integers. The range is defined as 1 more than the difference between the maximum and minimum values in the list. For example, if a list contains the values [36, 12, 25, 19, 46, 31, 22], the program should return 35. You may assume that the list has at least one element. "
   ]
  },
  {
   "cell_type": "code",
   "execution_count": 23,
   "metadata": {},
   "outputs": [
    {
     "name": "stdout",
     "output_type": "stream",
     "text": [
      "35\n"
     ]
    }
   ],
   "source": [
    "def list_range(a):\n",
    "    max_val, min_val = max(a), min(a)\n",
    "    diff = max_val - min_val + 1\n",
    "    return diff\n",
    "\n",
    "a = [36, 12, 25, 19, 46, 31, 22]\n",
    "print(list_range(a))"
   ]
  },
  {
   "cell_type": "markdown",
   "metadata": {},
   "source": [
    "### 9. Write a program that accepts a list of integers, a minimum value, and a maximum value and prints the count of how many elements from the list fall between the minimum and maximum (inclusive). For example, in the list [14, 1, 22, 17, 36, 7, -43, 5], for minimum value 4 and maximum value 17, there are four elements whose values fall between 4 and 17. "
   ]
  },
  {
   "cell_type": "code",
   "execution_count": 26,
   "metadata": {},
   "outputs": [
    {
     "name": "stdout",
     "output_type": "stream",
     "text": [
      "4\n"
     ]
    }
   ],
   "source": [
    "def myCount(li,a,b):\n",
    "   c = 0\n",
    "   for i in range(len(li)):\n",
    "       if li[i] >= a and li[i] <= b:\n",
    "           c=c+1\n",
    "       else:\n",
    "           c=c\n",
    "   return c\n",
    "li = [14,1,22,17,36,7,-43,5]\n",
    "print(myCount(li,4,17))"
   ]
  },
  {
   "cell_type": "markdown",
   "metadata": {},
   "source": [
    "### 10.  Write a program that accepts a list of real numbers and prints true if the list is in sorted (nondecreasing) order and false otherwise. For example, if lists named list1 and list2 store [16.1, 12.3, 22.2, 14.4] and [1.5, 4.3, 7.0, 19.5, 25.1, 46.2] respectively, the program should print false for list1 and true for list2 respectively. Assume the list has at least one element. A one-element list is sorted."
   ]
  },
  {
   "cell_type": "code",
   "execution_count": 29,
   "metadata": {},
   "outputs": [
    {
     "name": "stdout",
     "output_type": "stream",
     "text": [
      "False\n",
      "True\n"
     ]
    }
   ],
   "source": [
    "def is_sorted(num):\n",
    "    if sorted(num) == num:\n",
    "        return True\n",
    "    else:\n",
    "        return False\n",
    "\n",
    "list1, list2 = [16.1, 12.3, 22.2, 14.4], [1.5, 4.3, 7.0, 19.5, 25.1, 46.2] \n",
    "print(is_sorted(list1))\n",
    "print(is_sorted(list2))"
   ]
  }
 ],
 "metadata": {
  "kernelspec": {
   "display_name": "Python 3.9.7 64-bit",
   "language": "python",
   "name": "python3"
  },
  "language_info": {
   "codemirror_mode": {
    "name": "ipython",
    "version": 3
   },
   "file_extension": ".py",
   "mimetype": "text/x-python",
   "name": "python",
   "nbconvert_exporter": "python",
   "pygments_lexer": "ipython3",
   "version": "3.9.7"
  },
  "orig_nbformat": 4,
  "vscode": {
   "interpreter": {
    "hash": "f44a971b6fee70a18eb961a728c4c2bf164ef47e0339fc88364546047bf7704d"
   }
  }
 },
 "nbformat": 4,
 "nbformat_minor": 2
}
