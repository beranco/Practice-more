{
 "cells": [
  {
   "cell_type": "markdown",
   "metadata": {},
   "source": [
    "## 1. Complete the Point class we discussed in the lecture. "
   ]
  },
  {
   "cell_type": "code",
   "execution_count": 1,
   "metadata": {},
   "outputs": [
    {
     "name": "stdout",
     "output_type": "stream",
     "text": [
      "3\n",
      "4\n",
      "5.0\n"
     ]
    }
   ],
   "source": [
    "import math\n",
    "\n",
    "class Point:\n",
    "    total = 0\n",
    "\n",
    "    def __init__(self, initialX, initialY):\n",
    "        self.X = initialX\n",
    "        self.Y = initialY\n",
    "        Point.total += 1\n",
    "    def setLocation(self, newX, newY):\n",
    "        self.X = newX\n",
    "        self.Y = newY\n",
    "    def translate(self, dx, dy):\n",
    "        self.X += dx\n",
    "        self.Y += dy\n",
    "    def distanceFromOrigin(self):\n",
    "        return math.sqrt(self.X**2 + self.Y**2)\n",
    "    def distance(self, p):\n",
    "        return math.sqrt((self.X-p.X) ** 2 + (self.Y-p.Y) ** 2)\n",
    "\n",
    "p1 = Point(2,3)\n",
    "# p1.setLocation(2, 5)\n",
    "# print(p1.X)\n",
    "p1.translate(1,1)\n",
    "print(p1.X)\n",
    "print(p1.Y)\n",
    "print(p1.distanceFromOrigin())"
   ]
  },
  {
   "cell_type": "code",
   "execution_count": 2,
   "metadata": {},
   "outputs": [
    {
     "data": {
      "text/plain": [
       "5.656854249492381"
      ]
     },
     "execution_count": 2,
     "metadata": {},
     "output_type": "execute_result"
    }
   ],
   "source": [
    "p2 = Point(7,8)\n",
    "p1.distance(p2)"
   ]
  },
  {
   "cell_type": "markdown",
   "metadata": {},
   "source": [
    "### 2. Add the following method to the Point class: \n",
    "                def isVertical(self,p): \n",
    "\n",
    "                \n",
    "where p is another Point. The method returns true if the given Point lines up vertically with \n",
    "the current Point, that is, if their x-coordinates are the same. "
   ]
  },
  {
   "cell_type": "code",
   "execution_count": 3,
   "metadata": {},
   "outputs": [],
   "source": [
    "class Point:\n",
    "    total = 0\n",
    "\n",
    "    def __init__(self, initialX, initialY):\n",
    "        self.X = initialX\n",
    "        self.Y = initialY\n",
    "        Point.total += 1\n",
    "    def setLocation(self, newX, newY):\n",
    "        self.X = newX\n",
    "        self.Y = newY\n",
    "    def translate(self, dx, dy):\n",
    "        self.X += dx\n",
    "        self.Y += dy\n",
    "    def distanceFromOrigin(self):\n",
    "        return math.sqrt(self.X**2 + self.Y**2)\n",
    "    def distance(self, p):\n",
    "        return math.sqrt((self.X-p.X) ** 2 + (self.Y-p.Y) ** 2)\n",
    "    def isVertical(self, p):\n",
    "        if (self.X == p.X):\n",
    "            return True\n",
    "        else:\n",
    "            return False"
   ]
  },
  {
   "cell_type": "code",
   "execution_count": 4,
   "metadata": {},
   "outputs": [
    {
     "name": "stdout",
     "output_type": "stream",
     "text": [
      "False\n",
      "\n",
      "True\n"
     ]
    }
   ],
   "source": [
    "p1 = Point(2,3)\n",
    "p2 = Point(1,1)\n",
    "print(p1.isVertical(p2))\n",
    "print()\n",
    "p1.setLocation(1,3)\n",
    "print(p1.isVertical(p2))"
   ]
  },
  {
   "cell_type": "markdown",
   "metadata": {},
   "source": [
    "## 3. Add the following method to the Point class: \n",
    "                def slope(self, p): \n",
    "            \n",
    "where p is another Point and the method returns the slope of the line drawn between this Point and the given other Point. Use the formula (y2-y1)/(x2-x1) to determine the slope between (x1,y1) and (x2,y2).  "
   ]
  },
  {
   "cell_type": "code",
   "execution_count": null,
   "metadata": {},
   "outputs": [],
   "source": [
    "class Point:\n",
    "    total = 0\n",
    "\n",
    "    def __init__(self, initialX, initialY):\n",
    "        self.X = initialX\n",
    "        self.Y = initialY\n",
    "        Point.total += 1\n",
    "    def setLocation(self, newX, newY):\n",
    "        self.X = newX\n",
    "        self.Y = newY\n",
    "    def translate(self, dx, dy):\n",
    "        self.X += dx\n",
    "        self.Y += dy\n",
    "    def distanceFromOrigin(self):\n",
    "        return math.sqrt(self.X**2 + self.Y**2)\n",
    "    def distance(self, p):\n",
    "        return math.sqrt((self.X-p.X) ** 2 + (self.Y-p.Y) ** 2)\n",
    "    def isVertical(self, p):\n",
    "        if (self.X == p.X):\n",
    "            return True\n",
    "        else:\n",
    "            return False\n",
    "    def slope(self, p):\n",
    "        slope = (p.X - self.X) / (p.Y - self.Y)"
   ]
  },
  {
   "cell_type": "code",
   "execution_count": null,
   "metadata": {},
   "outputs": [],
   "source": []
  },
  {
   "cell_type": "markdown",
   "metadata": {},
   "source": [
    "## 4. Write a class called Line that represents a line segment between two Points. The following codes is the first version of the Line class \n",
    "        class Line: \n",
    "            def __int__(self,newp1,newp2): \n",
    "                self.p1=newp1 \n",
    "                self.p2=newp2 \n",
    " \n",
    "Then add the following methods to Your Line object: \n",
    "\n",
    "            def getP1(self): \n",
    "            \n",
    "Returns this Line’s first endpoint. \n",
    "\n",
    "            def getP2(self): \n",
    "\n",
    "Return this Line’s second endpoint. \n",
    "\n",
    "            def getSlope(self): \n",
    "            \n",
    "Return the slope of this Line. The slope of a line between point (x1,y1) and (x2,y2) is equal to (y2-y1)/(x2-x1). \n",
    "\n",
    "            def getLength(self): \n",
    "            \n",
    "Return the length of this Line. \n",
    "\n",
    "Develop a client program to test your Line class. "
   ]
  },
  {
   "cell_type": "code",
   "execution_count": 5,
   "metadata": {},
   "outputs": [],
   "source": [
    "class Line: \n",
    "    def __int__(self,newp1,newp2): \n",
    "        self.p1 = newp1 \n",
    "        self.p2 = newp2\n",
    "    def getP1(self): \n",
    "        return self.p1\n",
    "    def getP2(self):\n",
    "        return self.p2\n",
    "    def getSlope(self):\n",
    "        x_slope = self.p2.x - self.p1.x\n",
    "        y_slope = self.p2.y - self.p1.y\n",
    "        slope = x_slope / y_slope\n",
    "        return slope\n",
    "    def getLength(self,p):\n",
    "        return math.sqrt(p.x**2 + p.y**2)"
   ]
  },
  {
   "cell_type": "code",
   "execution_count": null,
   "metadata": {},
   "outputs": [],
   "source": []
  },
  {
   "cell_type": "markdown",
   "metadata": {},
   "source": [
    "## 5. The diagram below represents the design for the BankAccount class \n",
    "\n",
    "* Class: BankAccount \n",
    "* accountNumber:String \n",
    "* accountName:String \n",
    "* balance:float \n",
    "\n",
    "* __init__(String, String, float) \n",
    "* getAccountNumber():String \n",
    "* getAccountName():String \n",
    "* getBalance():float \n",
    "* deposit(float) \n",
    "* withdraw(float): boolean \n",
    "\n",
    "Detailed methods description: \n",
    "1. __init__(String, String,float) is a constructor \n",
    "2. getAccountNumber():String returns the account number \n",
    "3. getAccountName():String returns the account name \n",
    "4. getBalance():float returns the balance \n",
    "5. deposit(float)accepts an item of type float and adds it to the balance \n",
    "6. withdraw(float): Boolean accepts an item of type float and checks if there are sufficient funds to make a withdrawal. If there are not, then the method terminates and returns a value of false. If there are sufficient funds, however, the method subtracts the amount from the balance and returns a value of true.\n",
    "\n",
    "Write the code for the BankAccount class.  \n",
    "\n",
    "Write client code to test out your BankAccount class; it should create two or three accounts, and  use  the methods of the  BankAccount  class  to  test  whether they  work  according  to the \n",
    "specification.  \n",
    "\n",
    "It is perfectly possible, and often very desirable, to create lists of objects. "
   ]
  },
  {
   "cell_type": "code",
   "execution_count": 9,
   "metadata": {},
   "outputs": [],
   "source": [
    "class BankAccount:\n",
    "    def __init__(self, acct_num, acct_name, balance):\n",
    "        # Encaspulation - To restrict other pple from accessing important information\n",
    "        self.__acctnum = acct_num\n",
    "        self.__acctname = acct_name\n",
    "        self.__balance = balance\n",
    "    def getAcctNum(self):\n",
    "        return self.__acctnum\n",
    "    def getAcctName(self):\n",
    "        return self.__acctname\n",
    "    def getAcctBal(self):\n",
    "        return self.__balance\n",
    "    def deposit(self, amount):\n",
    "        self.__balance += amount\n",
    "        return amount\n",
    "    def withdraw(self, withdrawAmount):\n",
    "        if self.__balance > withdrawAmount:\n",
    "            self.__balance -= withdrawAmount\n",
    "            return withdrawAmount\n",
    "        else:\n",
    "            return (\"Insufficient funds.....\")"
   ]
  },
  {
   "cell_type": "code",
   "execution_count": 10,
   "metadata": {},
   "outputs": [
    {
     "name": "stdout",
     "output_type": "stream",
     "text": [
      "Account Number:  123\n",
      "\n",
      "Account Name:  CLEI\n",
      "\n",
      "Current Account Balance:  1250.0\n",
      "\n",
      "Amount deposited:  50\n",
      "\n",
      "Amount withdrawn:  200\n",
      "\n",
      "New  balance is : 1100.0\n"
     ]
    }
   ],
   "source": [
    "BA1 = BankAccount(\"123\", \"CLEI\", 1250.0)\n",
    "\n",
    "print(\"Account Number: \", BA1.getAcctNum())\n",
    "print()\n",
    "print(\"Account Name: \", BA1.getAcctName())\n",
    "print()\n",
    "print(\"Current Account Balance: \", BA1.getAcctBal())\n",
    "print()\n",
    "print(\"Amount deposited: \", BA1.deposit(50))\n",
    "print()\n",
    "print(\"Amount withdrawn: \", BA1.withdraw(200))\n",
    "print()\n",
    "print(\"New  balance is :\", BA1.getAcctBal())"
   ]
  },
  {
   "cell_type": "code",
   "execution_count": null,
   "metadata": {},
   "outputs": [],
   "source": []
  }
 ],
 "metadata": {
  "kernelspec": {
   "display_name": "Python 3",
   "language": "python",
   "name": "python3"
  },
  "language_info": {
   "codemirror_mode": {
    "name": "ipython",
    "version": 3
   },
   "file_extension": ".py",
   "mimetype": "text/x-python",
   "name": "python",
   "nbconvert_exporter": "python",
   "pygments_lexer": "ipython3",
   "version": "3.9.7 (tags/v3.9.7:1016ef3, Aug 30 2021, 20:19:38) [MSC v.1929 64 bit (AMD64)]"
  },
  "orig_nbformat": 4,
  "vscode": {
   "interpreter": {
    "hash": "f44a971b6fee70a18eb961a728c4c2bf164ef47e0339fc88364546047bf7704d"
   }
  }
 },
 "nbformat": 4,
 "nbformat_minor": 2
}
