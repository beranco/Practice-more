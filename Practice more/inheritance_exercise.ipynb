{
 "cells": [
  {
   "cell_type": "markdown",
   "metadata": {},
   "source": [
    "### 2.  Write  a  class  HarvardLawyer  to  accompany  the  other  law  firm  classes described  in  the  lecture.  Harvard  lawyers  are  like  normal  lawyers,  but they make 20% more money than a normal lawyer, they get 3 days more vacation, and they have to fill out four of the lawyer’s forms to go on vacation. That is, the getVacationForm method should return \"pinkpinkpinkpink\". Make sure to interact with the superclass as appropriate. "
   ]
  },
  {
   "cell_type": "code",
   "execution_count": 1,
   "metadata": {},
   "outputs": [],
   "source": [
    "class Employee:\n",
    "    def __init__(self,initialYears):\n",
    "        self.__years = initialYears\n",
    "    def getHours(self):\n",
    "        return 40\n",
    "    def getSalary(self):\n",
    "        return 50000.0\n",
    "    def getVacationDays(self):\n",
    "        return 10 + 2 * self.__years\n",
    "    def getVacationForm(self):\n",
    "        return \"yellow\"\n",
    "\n",
    "class Secretary(Employee):\n",
    "    def takeDictation(self, s):\n",
    "        print('Taking dictation of text:', s)\n",
    "\n",
    "# Implementing Lawyer\n",
    "class Lawyer(Employee):\n",
    "    # overrides getVacationForm method in Employee class\n",
    "    def getVacationDays(self):\n",
    "        return super(Lawyer,self).getVacationDays() + 5\n",
    "    # overrides getVacationDays from Employee class\n",
    "    def getVacationForm(self):\n",
    "        return \"pink\"\n",
    "    def sue(self):\n",
    "        print(\"I'll see you in court\")\n",
    "        \n",
    "# Implementing Marketer\n",
    "class Marketer(Employee):\n",
    "    # overrides getVacationForm method in Employee class\n",
    "    def getSalary(self):\n",
    "        return super(Marketer,self).getSalary() + 10000.0\n",
    "\n",
    "    def advertise(self):\n",
    "        print(\"Act now while supplies last!\")\n",
    "\n",
    "# Implementing LegalSecretary\n",
    "class LegalSecretary(Secretary):\n",
    "    def fileLegalBriefs(self):\n",
    "        print(\"I could file all day!\")\n",
    "    def getSalary(self):\n",
    "        baseSalary = super(LegalSecretary,self).getSalary()\n",
    "        return baseSalary + 5000.0"
   ]
  },
  {
   "cell_type": "code",
   "execution_count": 2,
   "metadata": {},
   "outputs": [],
   "source": [
    "class HavardLawyer(Lawyer):\n",
    "    def getSalary(self):\n",
    "        basesalary = super(HavardLawyer,self).getSalary()\n",
    "        return  (basesalary * 0.2) + basesalary\n",
    "    def getVacationForm(self):\n",
    "        return super(HavardLawyer,self).getVacationForm() * 3"
   ]
  },
  {
   "cell_type": "code",
   "execution_count": null,
   "metadata": {},
   "outputs": [],
   "source": []
  },
  {
   "cell_type": "markdown",
   "metadata": {},
   "source": [
    "## 3 Create a VIPBankAccount class based on the above UML notation (Check Class obj exercise) "
   ]
  },
  {
   "cell_type": "code",
   "execution_count": 4,
   "metadata": {},
   "outputs": [],
   "source": [
    "class BankAccount:\n",
    "    def __init__(self, Num, Name, Bal):\n",
    "        # Encaspulation - To restrict other pple from accessing important information\n",
    "        self.__num = Num\n",
    "        self.__name = Name\n",
    "        self.__balance = Bal\n",
    "    def getAcctNum(self):\n",
    "        return self.__num\n",
    "    def getAcctName(self):\n",
    "        return self.__name\n",
    "    def getAcctBal(self):\n",
    "        return self.__balance\n",
    "    def deposit(self, amount):\n",
    "        self.__balance = self.__balance + amount\n",
    "    def withdraw(self, withdrawAmount):\n",
    "        if withdrawAmount <= self.__balance:\n",
    "            self.__balance = self.__balance - withdrawAmount\n",
    "            return True\n",
    "        else:\n",
    "            return False"
   ]
  },
  {
   "cell_type": "code",
   "execution_count": 5,
   "metadata": {},
   "outputs": [],
   "source": [
    "class VIPBankAccount(BankAccount):\n",
    "    def __init__(self, num, name, bal, limit):\n",
    "        super(VIPBankAccount, self).__init__(num,name,bal)\n",
    "        self.__creditlimit = limit\n",
    "    def withdraw(self, withdrawAmount):\n",
    "        if withdrawAmount <= super(VIPBankAccount,self).getAcctBal() + self.__creditlimit:\n",
    "            super(VIPBankAccount, self).withdraw(withdrawAmount - self.__creditlimit)\n",
    "            return True\n",
    "        else:\n",
    "            return False"
   ]
  },
  {
   "cell_type": "code",
   "execution_count": 7,
   "metadata": {},
   "outputs": [
    {
     "name": "stdout",
     "output_type": "stream",
     "text": [
      "Account Number:  123\n",
      "\n",
      "Account Name:  CLEI\n",
      "\n",
      "Account Balance:  200.0\n",
      "\n",
      "New account Balance:  250.0\n"
     ]
    }
   ],
   "source": [
    "BA1 = BankAccount(\"123\", \"CLEI\", 200.0)\n",
    "\n",
    "print(\"Account Number: \", BA1.getAcctNum())\n",
    "print()\n",
    "print(\"Account Name: \", BA1.getAcctName())\n",
    "print()\n",
    "print(\"Account Balance: \", BA1.getAcctBal())\n",
    "print()\n",
    "BA1.deposit(50.0)\n",
    "print(\"New account Balance: \", BA1.getAcctBal())"
   ]
  }
 ],
 "metadata": {
  "kernelspec": {
   "display_name": "Python 3",
   "language": "python",
   "name": "python3"
  },
  "language_info": {
   "codemirror_mode": {
    "name": "ipython",
    "version": 3
   },
   "file_extension": ".py",
   "mimetype": "text/x-python",
   "name": "python",
   "nbconvert_exporter": "python",
   "pygments_lexer": "ipython3",
   "version": "3.9.7 (tags/v3.9.7:1016ef3, Aug 30 2021, 20:19:38) [MSC v.1929 64 bit (AMD64)]"
  },
  "orig_nbformat": 4,
  "vscode": {
   "interpreter": {
    "hash": "f44a971b6fee70a18eb961a728c4c2bf164ef47e0339fc88364546047bf7704d"
   }
  }
 },
 "nbformat": 4,
 "nbformat_minor": 2
}
