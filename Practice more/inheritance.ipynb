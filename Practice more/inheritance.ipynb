{
 "cells": [
  {
   "cell_type": "markdown",
   "metadata": {},
   "source": [
    "## Employee regulations• Consider the following employee regulations:\n",
    "* Employees work 40 hours / week.\n",
    "* Employees make $40,000 per year, except legal secretaries who make $5,000 extra per year ($45,000 total), and marketers who make $10,000 extra per year ($50,000 total).\n",
    "* Employees have 2 weeks of paid vacation leave per year, except lawyers who get an extra week (a total of 3).\n",
    "* Employees should use a yellow form to apply for leave, except for lawyers who use a pink form.\n",
    "\n",
    "Each type of employee has some unique behavior:\n",
    "* Lawyers know how to sue.\n",
    "* Marketers know how to advertise.\n",
    "* Secretaries know how to take dictation.\n",
    "* Legal secretaries know how to prepare legal documents."
   ]
  },
  {
   "cell_type": "code",
   "execution_count": 1,
   "metadata": {},
   "outputs": [],
   "source": [
    "class Employee:\n",
    "    def getHours(self):\n",
    "        return 40\n",
    "    def getSalary(self):\n",
    "        return 40000.0\n",
    "    def getVacationDays(self):\n",
    "        return 10           #2 weeks' paid vacation\n",
    "    def getVacationForm(self):\n",
    "        return \"yellow\""
   ]
  },
  {
   "cell_type": "markdown",
   "metadata": {},
   "source": [
    "## Inheritance"
   ]
  },
  {
   "cell_type": "code",
   "execution_count": 2,
   "metadata": {},
   "outputs": [],
   "source": [
    "class Secretary(Employee):\n",
    "    def takeDictation(self, s):\n",
    "        print('Taking dictation of text:', s)"
   ]
  },
  {
   "cell_type": "code",
   "execution_count": 3,
   "metadata": {},
   "outputs": [
    {
     "name": "stdout",
     "output_type": "stream",
     "text": [
      "Taking dictation of text: 7\n"
     ]
    }
   ],
   "source": [
    "sec2 = Secretary()\n",
    "sec2.takeDictation(7)"
   ]
  },
  {
   "cell_type": "code",
   "execution_count": 4,
   "metadata": {},
   "outputs": [],
   "source": [
    "# Implementing Lawyer\n",
    "class Lawyer(Employee):\n",
    "    # overrides getVacationForm method in Employee class\n",
    "    def getVacationDays(self):\n",
    "        return 15           #3 weeks' paid vacation\n",
    "    # overrides getVacationDays from Employee class\n",
    "    def getVacationForm(self):\n",
    "        return \"pink\"\n",
    "    def sue(self):\n",
    "        print(\"I'll see you in court\")"
   ]
  },
  {
   "cell_type": "code",
   "execution_count": 5,
   "metadata": {},
   "outputs": [],
   "source": [
    "# Implementing Marketer\n",
    "class Marketer(Employee):\n",
    "    # overrides getVacationForm method in Employee class\n",
    "    def getSalary(self):\n",
    "        return 50000.0\n",
    "\n",
    "    def advertise(self):\n",
    "        print(\"Act now while supplies last!\")"
   ]
  },
  {
   "cell_type": "code",
   "execution_count": 6,
   "metadata": {},
   "outputs": [],
   "source": [
    "# Implementing LegalSecretary\n",
    "class LegalSecretary(Secretary):\n",
    "    def fileLegalBriefs(self):\n",
    "        print(\"I could file all day!\")\n",
    "    def getSalary(self):\n",
    "        return 45000.0"
   ]
  },
  {
   "cell_type": "code",
   "execution_count": 7,
   "metadata": {},
   "outputs": [
    {
     "data": {
      "text/plain": [
       "40"
      ]
     },
     "execution_count": 7,
     "metadata": {},
     "output_type": "execute_result"
    }
   ],
   "source": [
    "legal1 = LegalSecretary()\n",
    "legal1.getHours()"
   ]
  },
  {
   "cell_type": "markdown",
   "metadata": {},
   "source": [
    "## Interacting with the superclass\n",
    "\n",
    "Imagine a company-wide change affecting all employees.\n",
    "Example: Everyone is given a $10,000 raise due to inflation.\n",
    "* The base employee salary is now $50,000.\n",
    "* Legal secretaries now make $55,000.\n",
    "* Marketers now make $60,000.\n",
    "\n",
    "• We must modify our code to reflect this policy change."
   ]
  },
  {
   "cell_type": "markdown",
   "metadata": {},
   "source": [
    "## Calling overridden methods\n",
    "\n",
    "* Subclasses can call overridden methods with _super_\n",
    "\n",
    "        super(subclass, self).method(parameters)"
   ]
  },
  {
   "cell_type": "code",
   "execution_count": 8,
   "metadata": {},
   "outputs": [],
   "source": [
    "class Employee:\n",
    "    def __init__(self,initialYears):\n",
    "        self.__years = initialYears\n",
    "    def getHours(self):\n",
    "        return 40\n",
    "    def getSalary(self):\n",
    "        return 50000.0\n",
    "    def getVacationDays(self):\n",
    "        return 10 + 2 * self.__years\n",
    "    def getVacationForm(self):\n",
    "        return \"yellow\""
   ]
  },
  {
   "cell_type": "code",
   "execution_count": 9,
   "metadata": {},
   "outputs": [],
   "source": [
    "# Implementing Lawyer\n",
    "class Lawyer(Employee):\n",
    "    # overrides getVacationForm method in Employee class\n",
    "    def getVacationDays(self):\n",
    "        return super(Lawyer,self).getVacationDays() + 5\n",
    "    # overrides getVacationDays from Employee class\n",
    "    def getVacationForm(self):\n",
    "        return \"pink\"\n",
    "    def sue(self):\n",
    "        print(\"I'll see you in court\")"
   ]
  },
  {
   "cell_type": "code",
   "execution_count": 10,
   "metadata": {},
   "outputs": [
    {
     "data": {
      "text/plain": [
       "19"
      ]
     },
     "execution_count": 10,
     "metadata": {},
     "output_type": "execute_result"
    }
   ],
   "source": [
    "law1 = Lawyer(2)\n",
    "law1.getVacationDays()"
   ]
  },
  {
   "cell_type": "code",
   "execution_count": 11,
   "metadata": {},
   "outputs": [],
   "source": [
    "class Secretary(Employee):\n",
    "    def takeDictation(self, s):\n",
    "        print('Taking dictation of text:', s)"
   ]
  },
  {
   "cell_type": "code",
   "execution_count": 12,
   "metadata": {},
   "outputs": [],
   "source": [
    "# Implementing Marketer\n",
    "class Marketer(Employee):\n",
    "    # overrides getVacationForm method in Employee class\n",
    "    def getSalary(self):\n",
    "        return super(Marketer,self).getSalary() + 10000.0\n",
    "\n",
    "    def advertise(self):\n",
    "        print(\"Act now while supplies last!\")"
   ]
  },
  {
   "cell_type": "code",
   "execution_count": 14,
   "metadata": {},
   "outputs": [
    {
     "data": {
      "text/plain": [
       "60000.0"
      ]
     },
     "execution_count": 14,
     "metadata": {},
     "output_type": "execute_result"
    }
   ],
   "source": [
    "Mark2 = Marketer(1)\n",
    "Mark2.getSalary()"
   ]
  },
  {
   "cell_type": "code",
   "execution_count": 15,
   "metadata": {},
   "outputs": [],
   "source": [
    "# Implementing LegalSecretary\n",
    "class LegalSecretary(Secretary):\n",
    "    def fileLegalBriefs(self):\n",
    "        print(\"I could file all day!\")\n",
    "    def getSalary(self):\n",
    "        baseSalary = super(LegalSecretary,self).getSalary()\n",
    "        return baseSalary + 5000.0"
   ]
  },
  {
   "cell_type": "code",
   "execution_count": 16,
   "metadata": {},
   "outputs": [
    {
     "data": {
      "text/plain": [
       "55000.0"
      ]
     },
     "execution_count": 16,
     "metadata": {},
     "output_type": "execute_result"
    }
   ],
   "source": [
    "leg2 = LegalSecretary(2)\n",
    "leg2.getSalary()"
   ]
  },
  {
   "cell_type": "markdown",
   "metadata": {},
   "source": [
    "## Polymorphism\n",
    "\n",
    "* polymorphism: Ability for the same code to be used with different types of objects and behave differently with each."
   ]
  },
  {
   "cell_type": "code",
   "execution_count": 17,
   "metadata": {},
   "outputs": [],
   "source": [
    "def printInfo(empl):\n",
    "    print(\"salary: \", empl.getSalary())\n",
    "    print(\"v.days: \", empl.getVacationDays())\n",
    "    print(\"v.form: \", empl.getVacationForm())\n",
    "    print()"
   ]
  },
  {
   "cell_type": "code",
   "execution_count": 19,
   "metadata": {},
   "outputs": [
    {
     "name": "stdout",
     "output_type": "stream",
     "text": [
      "salary:  50000.0\n",
      "v.days:  19\n",
      "v.form:  pink\n",
      "\n",
      "salary:  50000.0\n",
      "v.days:  14\n",
      "v.form:  yellow\n",
      "\n"
     ]
    }
   ],
   "source": [
    "lisa = Lawyer(2)\n",
    "steve = Secretary(2)\n",
    "printInfo(lisa)\n",
    "printInfo(steve)"
   ]
  },
  {
   "cell_type": "code",
   "execution_count": null,
   "metadata": {},
   "outputs": [],
   "source": []
  }
 ],
 "metadata": {
  "interpreter": {
   "hash": "2214e8dd62459074908a99404395d337061d4357bdd4e7c9f6f5f8f61b5651c8"
  },
  "kernelspec": {
   "display_name": "Python 3.10.0 64-bit",
   "language": "python",
   "name": "python3"
  },
  "language_info": {
   "codemirror_mode": {
    "name": "ipython",
    "version": 3
   },
   "file_extension": ".py",
   "mimetype": "text/x-python",
   "name": "python",
   "nbconvert_exporter": "python",
   "pygments_lexer": "ipython3",
   "version": "3.10.0"
  },
  "orig_nbformat": 4
 },
 "nbformat": 4,
 "nbformat_minor": 2
}
