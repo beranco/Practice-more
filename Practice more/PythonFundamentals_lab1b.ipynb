{
 "cells": [
  {
   "cell_type": "markdown",
   "metadata": {},
   "source": [
    "### 1.  Write a program to produce the following output using for loop \n",
    " +----+ \n",
    "\n",
    " \\    / \n",
    "\n",
    " /    \\ \n",
    "\n",
    " \\    / \n",
    "\n",
    " /    \\ \n",
    "\n",
    " \\    / \n",
    "\n",
    " /    \\ \n",
    " \n",
    " +----+"
   ]
  },
  {
   "cell_type": "code",
   "execution_count": 1,
   "metadata": {},
   "outputs": [
    {
     "name": "stdout",
     "output_type": "stream",
     "text": [
      "+----+\n",
      "\\    /\n",
      "/    \\\n",
      "\\    /\n",
      "/    \\\n",
      "\\    /\n",
      "/    \\\n",
      "+----+\n"
     ]
    }
   ],
   "source": [
    "print(\"+----+\")\n",
    "for i in range(3):\n",
    "    print(\"\\\\    /\")\n",
    "    print(\"/    \\\\\")\n",
    "print(\"+----+\")"
   ]
  },
  {
   "cell_type": "markdown",
   "metadata": {},
   "source": [
    "### 2.  Write a program to produce the following output using for loop "
   ]
  },
  {
   "cell_type": "code",
   "execution_count": 2,
   "metadata": {},
   "outputs": [
    {
     "name": "stdout",
     "output_type": "stream",
     "text": [
      "**********\n",
      "**********\n",
      "**********\n",
      "**********\n",
      "**********\n"
     ]
    }
   ],
   "source": [
    "for i in range(5):\n",
    "    print(\"*\"*10)"
   ]
  },
  {
   "cell_type": "markdown",
   "metadata": {},
   "source": [
    "### 3.  Complete the code for the following for loop:  \n",
    "for in range(1,7): \n",
    "\n",
    "      //your code here \n",
    "      \n",
    "so that it prints the following numbers, one per line: "
   ]
  },
  {
   "cell_type": "code",
   "execution_count": 3,
   "metadata": {},
   "outputs": [
    {
     "name": "stdout",
     "output_type": "stream",
     "text": [
      "1\n",
      "2\n",
      "3\n",
      "4\n",
      "5\n",
      "6\n"
     ]
    }
   ],
   "source": [
    "for i in range(1,7): \n",
    "      print(i)"
   ]
  },
  {
   "cell_type": "code",
   "execution_count": 4,
   "metadata": {},
   "outputs": [
    {
     "name": "stdout",
     "output_type": "stream",
     "text": [
      "2\n",
      "4\n",
      "6\n",
      "8\n",
      "10\n",
      "12\n"
     ]
    }
   ],
   "source": [
    "for i in range(1,13): \n",
    "    if i % 2 == 0:\n",
    "      print(i)"
   ]
  },
  {
   "cell_type": "code",
   "execution_count": 5,
   "metadata": {},
   "outputs": [
    {
     "name": "stdout",
     "output_type": "stream",
     "text": [
      "4\n",
      "19\n",
      "34\n",
      "49\n",
      "64\n",
      "79\n"
     ]
    }
   ],
   "source": [
    "start, end = 4, 79\n",
    "for i in range(start,end + 1,15): \n",
    "      print(i)"
   ]
  },
  {
   "cell_type": "code",
   "execution_count": 6,
   "metadata": {},
   "outputs": [
    {
     "name": "stdout",
     "output_type": "stream",
     "text": [
      "30\n",
      "20\n",
      "10\n",
      "0\n",
      "-10\n",
      "-20\n"
     ]
    }
   ],
   "source": [
    "start, end = 30, -20\n",
    "for i in range(start,end - 1,-10): \n",
    "      print(i)"
   ]
  },
  {
   "cell_type": "code",
   "execution_count": 7,
   "metadata": {},
   "outputs": [
    {
     "name": "stdout",
     "output_type": "stream",
     "text": [
      "-7\n",
      "-3\n",
      "1\n",
      "5\n",
      "9\n",
      "13\n"
     ]
    }
   ],
   "source": [
    "start, end = -7, 14\n",
    "for i in range(start,end + 1, 4): \n",
    "      print(i)"
   ]
  },
  {
   "cell_type": "code",
   "execution_count": 8,
   "metadata": {},
   "outputs": [
    {
     "name": "stdout",
     "output_type": "stream",
     "text": [
      "97\n",
      "94\n",
      "91\n",
      "88\n",
      "85\n",
      "82\n"
     ]
    }
   ],
   "source": [
    "start, end = 97, 82\n",
    "for i in range(start,end - 1, -3): \n",
    "      print(i)"
   ]
  },
  {
   "cell_type": "code",
   "execution_count": 9,
   "metadata": {},
   "outputs": [
    {
     "name": "stdout",
     "output_type": "stream",
     "text": [
      "-4\n",
      "14\n",
      "32\n",
      "50\n",
      "68\n",
      "86\n"
     ]
    }
   ],
   "source": [
    "start, end = -4, 86\n",
    "for i in range(start,end + 1, 18): \n",
    "      print(i)"
   ]
  },
  {
   "cell_type": "markdown",
   "metadata": {},
   "source": [
    "### 4.  \n",
    "Write  a  program  to  produce  the  following  output  using  for  loops.  Then use a class constant to make it possible to change the number of lines in the figure. \n",
    "1 \n",
    "\n",
    "22 \n",
    "\n",
    "333 \n",
    "\n",
    "4444 \n",
    "\n",
    "55555 \n",
    "\n",
    "666666 \n",
    "\n",
    "7777777 "
   ]
  },
  {
   "cell_type": "code",
   "execution_count": 15,
   "metadata": {},
   "outputs": [
    {
     "name": "stdout",
     "output_type": "stream",
     "text": [
      "1\n",
      "22\n",
      "333\n",
      "4444\n",
      "55555\n",
      "666666\n",
      "7777777\n"
     ]
    }
   ],
   "source": [
    "n = int(input(\"Enter number of rows: \"))\n",
    "\n",
    "for i in range(1, n):\n",
    "    for j in range(1, i+1):\n",
    "        print(i, end=\"\")\n",
    "    print()"
   ]
  },
  {
   "cell_type": "code",
   "execution_count": 11,
   "metadata": {},
   "outputs": [
    {
     "name": "stdout",
     "output_type": "stream",
     "text": [
      "1\n",
      "22\n",
      "333\n",
      "4444\n",
      "55555\n",
      "666666\n",
      "7777777\n"
     ]
    }
   ],
   "source": [
    "for i in range(1,8):\n",
    "      print(str(i)*i)"
   ]
  },
  {
   "cell_type": "markdown",
   "metadata": {},
   "source": [
    "### 5.  Write a method named pay that accepts two parameters: \n",
    "a real number for a TA's salary, and an integer for the number of hours the TA worked this week. The method should return how much money to pay the TA. For example, the call  \n",
    "    **pay(5.50, 6)**  \n",
    "should return  \n",
    "    **33.0.**  \n",
    "\n",
    "The TA should receive \"overtime\" pay of 1 ½ normal salary for any hours above 8. For example, \n",
    "the call pay _(4.00, 11)_ should return _(4.00 * 8) + (6.00 * 3)_ or _50.0_.  "
   ]
  },
  {
   "cell_type": "code",
   "execution_count": 20,
   "metadata": {},
   "outputs": [
    {
     "name": "stdout",
     "output_type": "stream",
     "text": [
      "50.0\n"
     ]
    }
   ],
   "source": [
    "Salary = int(input(\"Input your TA's Salary: \"))\n",
    "hours = int(input(\"Input total hrs worked in this week: \"))\n",
    "\n",
    "def TA(x,y):\n",
    "    if y <= 8:\n",
    "        return x * y\n",
    "    else:\n",
    "        return x*8 + x*1.5*(y-8)\n",
    "\n",
    "print(TA(Salary, hours))"
   ]
  },
  {
   "cell_type": "markdown",
   "metadata": {},
   "source": [
    "### 6.  Consider the following method for converting milliseconds into days: \n",
    "// converts milliseconds to days \n",
    "def toDays(millis):  \n",
    "    return millis / 1000.0 / 60.0 / 60.0 / 24.0 \n",
    " \n",
    "Write a similar method named area that takes as a parameter the radius of a circle and that returns the area of the circle. \n",
    "For example, the call  \n",
    "* area(2.0);  \n",
    "    should return: 12.566370614359172.  \n",
    "\n",
    "Recall that area can be computed as π times the radius squared  and  that Python has a constant called _math.pi_ "
   ]
  },
  {
   "cell_type": "code",
   "execution_count": 21,
   "metadata": {},
   "outputs": [
    {
     "name": "stdout",
     "output_type": "stream",
     "text": [
      "The area of the circle with radius 2.0 is: 12.566370614359172\n"
     ]
    }
   ],
   "source": [
    "import math\n",
    "\n",
    "radius = float(input(\"Input the radius of your desired circle: \"))\n",
    "\n",
    "area = math.pi * (radius * radius)\n",
    "print(\"The area of the circle with radius\", radius,\"is:\",area) "
   ]
  },
  {
   "cell_type": "markdown",
   "metadata": {},
   "source": [
    "### 7. Copy and paste the following code into pythons IDLE script environment. \n",
    "         low = 1 \n",
    "         high = 1001 \n",
    "         sum = 0 \n",
    "         for i in range(low,high): \n",
    "            sum += i \n",
    "         \n",
    "        print(\"sum = \" , sum) \n",
    "     \n",
    "**Modify** the code to use a _input_ to prompt the user for the values of _low_ and _high_. Below is a sample execution in which the user asks for the same values as in the original program (1 through 1000): \n",
    "\n",
    "        low? 1 \n",
    "        high? 1001 \n",
    "        sum = 500500 \n",
    "\n",
    "Below is an execution with different values for _low_ and _high_: \n",
    "\n",
    "        low? 300 \n",
    "        high? 5298 \n",
    "        sum = 13986903 \n",
    "You should exactly reproduce this format. "
   ]
  },
  {
   "cell_type": "code",
   "execution_count": 22,
   "metadata": {},
   "outputs": [
    {
     "name": "stdout",
     "output_type": "stream",
     "text": [
      "sum =  13986903\n"
     ]
    }
   ],
   "source": [
    "low = int(input(\"Input the Low Value: \"))\n",
    "high = int(input(\"Input the high Value: \"))\n",
    "sum = 0\n",
    "\n",
    "for i in range (low, high):\n",
    "    sum += i\n",
    "print(\"sum = \", sum)"
   ]
  },
  {
   "cell_type": "markdown",
   "metadata": {},
   "source": [
    "### 8. Write a program using _while loop_ that prompts the user for numbers until the user types 0, then outputs their sum. "
   ]
  },
  {
   "cell_type": "code",
   "execution_count": 24,
   "metadata": {},
   "outputs": [
    {
     "name": "stdout",
     "output_type": "stream",
     "text": [
      "Total sum:  16\n"
     ]
    }
   ],
   "source": [
    "total = 0\n",
    "num = int(input(\"Input an integer (0 terminates): \"))\n",
    "while num != 0:\n",
    "    total += num\n",
    "    if num == 0:\n",
    "        break\n",
    "    num = int(input(\"Input an integer (0 terminates): \"))\n",
    "\n",
    "print(\"Total sum: \", total)"
   ]
  },
  {
   "cell_type": "markdown",
   "metadata": {},
   "source": [
    "### 9.  Write a program using _while loop_ that prompts the user for numbers until the user types -1, then outputs their sum. "
   ]
  },
  {
   "cell_type": "code",
   "execution_count": 19,
   "metadata": {},
   "outputs": [
    {
     "name": "stdout",
     "output_type": "stream",
     "text": [
      "Total sum:  45\n"
     ]
    }
   ],
   "source": [
    "total = 0\n",
    "num = int(input(\"Input an integer (-1 terminates): \"))\n",
    "while num != -1:\n",
    "    total += num\n",
    "    if num == -1:\n",
    "        break\n",
    "    num = int(input(\"Input an integer (-1 terminates): \"))\n",
    "\n",
    "print(\"Total sum: \", total)"
   ]
  },
  {
   "cell_type": "markdown",
   "metadata": {},
   "source": [
    "### 10. Write a method named _repl_ that accepts a _String_ and a number of repetitions as parameters and returns the _String_ concatenated that many times.  For example, the call _repl(\"hello\", 3)_ returns _\"hellohellohello\"_. If the number of repetitions is 0 or less, an empty string is returned. "
   ]
  },
  {
   "cell_type": "code",
   "execution_count": 25,
   "metadata": {},
   "outputs": [
    {
     "name": "stdout",
     "output_type": "stream",
     "text": [
      "hellohellohellohello\n"
     ]
    }
   ],
   "source": [
    "user = str(input(\"Enter your String: \"))\n",
    "rep = int(input(\"Enter number of repitions: \"))\n",
    "\n",
    "def repl(s,n):\n",
    "    return s*n\n",
    "\n",
    "print(repl(user, rep))   "
   ]
  },
  {
   "cell_type": "markdown",
   "metadata": {},
   "source": [
    "### 11. Write a method called printRange that accepts two integers as arguments and prints the sequence of numbers between the two arguments, separated by spaces. Print an increasing  sequence if  the  first  argument is  smaller than the  second;  otherwise,  print  a  decreasing  sequence.  If  the  two  numbers are  the  same,  that  number  should  be  printed  by  itself.  Here  are  some sample calls to printRange:  \n",
    "* printRange(2, 7) \n",
    "* printRange(19, 11) \n",
    "* printRange(5, 5) \n",
    "\n",
    "The output produced should be the following:  \n",
    "1. 2 3 4 5 6 7  \n",
    "2. 19 18 17 16 15 14 13 12 11  \n",
    "3. 5 "
   ]
  },
  {
   "cell_type": "code",
   "execution_count": 28,
   "metadata": {},
   "outputs": [
    {
     "name": "stdout",
     "output_type": "stream",
     "text": [
      "2 3 4 5 6 7\n"
     ]
    }
   ],
   "source": [
    "def printRange(a,b):\n",
    "    while a != b:\n",
    "        print(a, end=' ')\n",
    "        if a < b:\n",
    "            a +=1\n",
    "        elif a > b:\n",
    "            a -=1\n",
    "    print(b)\n",
    "\n",
    "\n",
    "printRange(2,7)"
   ]
  },
  {
   "cell_type": "markdown",
   "metadata": {},
   "source": [
    "### 12. Write  a  method  named  _smallestLargest_  that  asks  the  user  to  enter  numbers, then  prints  the  smallest  and  largest  of  all  the  numbers  typed  in  by  the user.  You  may  assume  the  user  enters  a  valid  number  greater  than  0  for the number of numbers to read. Here is an example dialogue:  \n",
    "\n",
    "How many numbers do you want to enter? 4 \n",
    "\n",
    "Number 1: 5 \n",
    "\n",
    "Number 2: 11 \n",
    "\n",
    "Number 3: -2 \n",
    "\n",
    "Number 4: 3 \n",
    "\n",
    "Smallest = -2\n",
    "\n",
    "Largest = 11 "
   ]
  },
  {
   "cell_type": "code",
   "execution_count": 29,
   "metadata": {},
   "outputs": [
    {
     "name": "stdout",
     "output_type": "stream",
     "text": [
      "Smallest is = 5 \n",
      "Largest is = 8\n",
      "None\n"
     ]
    }
   ],
   "source": [
    "user = int(input(\"How many numbers do you want to enter: \"))\n",
    "list = []\n",
    "def smallestLargest(user):\n",
    "    for i in range(user):\n",
    "        num = int(input(\"Enter Number: \"))\n",
    "        list.append(num)\n",
    "    print(\"Smallest is =\", min(list),\"\\nLargest is =\", max(list))\n",
    "\n",
    "print(smallestLargest(user))"
   ]
  },
  {
   "cell_type": "markdown",
   "metadata": {},
   "source": [
    "### 13. Write a method called _printAverage_  that uses a sentinel loop to repeatedly prompt the user for numbers. Once the user types any number less  than  zero,  the  method should  display  the  average  of  all  nonnegative numbers  typed.  Display  the  average  as  a  _double_.  Here  is  a  sample dialogue with the user:\n",
    "\n",
    "Type a number: 7 \n",
    "\n",
    "Type a number: 4 \n",
    "\n",
    "Type a number: 16 \n",
    "\n",
    "Type a number: –4 \n",
    "\n",
    "Average was 9.0 \n",
    "\n",
    "If the first number that the user types is negative, do not print an average: \n",
    "\n",
    "Type a number: –2 "
   ]
  },
  {
   "cell_type": "code",
   "execution_count": 30,
   "metadata": {},
   "outputs": [
    {
     "name": "stdout",
     "output_type": "stream",
     "text": [
      "Your average is:  9.0\n"
     ]
    }
   ],
   "source": [
    "def printAverage():\n",
    "    total = 0\n",
    "    sum = 0\n",
    "    num = int(input(\"Input an integer (-ve terminates): \"))\n",
    "    while num >= 0:\n",
    "        total += 1\n",
    "        sum += num\n",
    "        if num < 0:\n",
    "            break\n",
    "        num = int(input(\"Input an integer (-ve terminates): \"))\n",
    "    avg = sum/total\n",
    "    print(\"Your average is: \", avg)\n",
    "\n",
    "printAverage()"
   ]
  },
  {
   "cell_type": "markdown",
   "metadata": {},
   "source": [
    "### 14. Write a method named _numUnique_ that takes three integers as parameters and returns the number of unique integers among the three. For example, the call _numUnique(18, 3, 4)_ should return _3_ because the parameters have three different values. By contrast, the call _numUnique(6, 7, 6)_ should return _2_ because there are only two unique numbers among the three parameters: 6 and 7. "
   ]
  },
  {
   "cell_type": "code",
   "execution_count": 36,
   "metadata": {},
   "outputs": [
    {
     "name": "stdout",
     "output_type": "stream",
     "text": [
      "3\n",
      "2\n"
     ]
    }
   ],
   "source": [
    "def numUnique(a,b,c):\n",
    "    count = 0\n",
    "    if a != b:\n",
    "        count += 1\n",
    "    if b != c:\n",
    "        count += 1\n",
    "    if a != c:\n",
    "        count += 1\n",
    "    if a == b and b == c:\n",
    "        count +=1\n",
    "    return count\n",
    "\n",
    "print(numUnique(18, 3, 4))\n",
    "print(numUnique(6, 7, 6))\n"
   ]
  },
  {
   "cell_type": "markdown",
   "metadata": {},
   "source": [
    "### 15. A Random object generates pseudo-random numbers. Find out how to use the Random class and write a program that simulates rolling of two 6-sided dice until their combined result comes up as 7. One possible output can be seen as below: \n",
    "    2 + 4 = 6 \n",
    "\n",
    "    3 + 5 = 8 \n",
    "\n",
    "    5 + 6 = 11\n",
    "\n",
    "    1 + 1 = 2 \n",
    "    \n",
    "    4 + 3 = 7 \n",
    " \n",
    "    You won after 5 tries! "
   ]
  },
  {
   "cell_type": "code",
   "execution_count": 42,
   "metadata": {},
   "outputs": [
    {
     "name": "stdout",
     "output_type": "stream",
     "text": [
      "4 + 5 = 9\n",
      "4 + 4 = 8\n",
      "2 + 5 = 7\n",
      "You won after  3 tries\n"
     ]
    }
   ],
   "source": [
    "import random\n",
    "\n",
    "sum = 0\n",
    "tries = 0\n",
    "while sum != 7:\n",
    "    roll1 = random.randint(1,6)\n",
    "    roll2 = random.randint(1,6)\n",
    "    sum = roll1 + roll2\n",
    "    print(roll1, '+', roll2, '=', sum)\n",
    "    tries += 1\n",
    "\n",
    "print(\"You won after \" ,tries,\"tries\")"
   ]
  }
 ],
 "metadata": {
  "kernelspec": {
   "display_name": "Python 3.9.7 64-bit",
   "language": "python",
   "name": "python3"
  },
  "language_info": {
   "codemirror_mode": {
    "name": "ipython",
    "version": 3
   },
   "file_extension": ".py",
   "mimetype": "text/x-python",
   "name": "python",
   "nbconvert_exporter": "python",
   "pygments_lexer": "ipython3",
   "version": "3.9.7"
  },
  "orig_nbformat": 4,
  "vscode": {
   "interpreter": {
    "hash": "f44a971b6fee70a18eb961a728c4c2bf164ef47e0339fc88364546047bf7704d"
   }
  }
 },
 "nbformat": 4,
 "nbformat_minor": 2
}
