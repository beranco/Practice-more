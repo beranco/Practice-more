{
 "cells": [
  {
   "cell_type": "markdown",
   "metadata": {},
   "source": [
    "### 1. Given the string _\"Monty Python\"_: \n",
    "\n",
    "* Write an expression to print the first character. \n",
    "* Write an expression to print the last character. \n",
    "* Write an expression including _len_ to print the last character. \n",
    "* Write an expression that prints _\"Monty\"_. "
   ]
  },
  {
   "cell_type": "code",
   "execution_count": 7,
   "metadata": {},
   "outputs": [
    {
     "name": "stdout",
     "output_type": "stream",
     "text": [
      "The first character is M\n",
      "The last character is n\n",
      "c. n\n",
      "d. Monty\n"
     ]
    }
   ],
   "source": [
    "my_str = 'Monty Python'\n",
    "print(\"The first character is\", my_str[0])\n",
    "print(\"The last character is\", my_str[-1])\n",
    "print(\"c.\", my_str[len(my_str)-1])\n",
    "print(\"d.\", my_str[0:5])"
   ]
  },
  {
   "cell_type": "markdown",
   "metadata": {},
   "source": [
    "### 2. Given the string _\"homebody\"_: \n",
    "* Write an expression using slicing to print _\"home\"_. \n",
    "* Write an expression using slicing to print _\"body\"_"
   ]
  },
  {
   "cell_type": "code",
   "execution_count": 9,
   "metadata": {},
   "outputs": [
    {
     "name": "stdout",
     "output_type": "stream",
     "text": [
      "a. home\n",
      "b. body\n"
     ]
    }
   ],
   "source": [
    "my_str = \"homebody\"\n",
    "print(\"a.\", my_str[:4])\n",
    "print(\"b.\", my_str[4:])"
   ]
  },
  {
   "cell_type": "markdown",
   "metadata": {},
   "source": [
    "### 3. Given a variable S containing a string of even length: \n",
    "* Write an expression to print out the first half of the string. \n",
    "* Write an expression to print out the second half of the string"
   ]
  },
  {
   "cell_type": "code",
   "execution_count": 18,
   "metadata": {},
   "outputs": [
    {
     "name": "stdout",
     "output_type": "stream",
     "text": [
      "First half of the string: This is a string wit \n",
      "\n",
      "Second half of the string: h an arbitrary length\n"
     ]
    }
   ],
   "source": [
    "s = \"This is a string with an arbitrary length\"\n",
    "\n",
    "first_half = s[: len(s) // 2]\n",
    "second_half = s[len(s) // 2:]\n",
    "print(\"First half of the string:\", first_half, '\\n')\n",
    "print(\"Second half of the string:\", second_half)"
   ]
  },
  {
   "cell_type": "markdown",
   "metadata": {},
   "source": [
    "### 4. Given a variable S containing a string of odd length: \n",
    "* Write an expression to print the middle character. \n",
    "* Write an expression to print the string up to but not including the middle character (i.e., the first half of the string). \n",
    "* Write an expression to print the string from the middle character to the end (not including the middle character). "
   ]
  },
  {
   "cell_type": "code",
   "execution_count": 13,
   "metadata": {},
   "outputs": [
    {
     "name": "stdout",
     "output_type": "stream",
     "text": [
      "a. The middle char is: 4\n",
      "b. First half of the string: 123\n",
      "c. Second half of the string: 567\n"
     ]
    }
   ],
   "source": [
    "s = \"1234567\"\n",
    "middle_char = len(s) // 2\n",
    "\n",
    "print(\"a. The middle char is:\", middle_char+1)\n",
    "print(\"b. First half of the string:\", s[:middle_char])\n",
    "print(\"c. Second half of the string:\", s[middle_char+1:])"
   ]
  },
  {
   "cell_type": "markdown",
   "metadata": {},
   "source": [
    "### 5. Given x = ‘water’, what is returned by x.replace('w','c',1)? "
   ]
  },
  {
   "cell_type": "code",
   "execution_count": 14,
   "metadata": {},
   "outputs": [
    {
     "data": {
      "text/plain": [
       "'cater'"
      ]
     },
     "execution_count": 14,
     "metadata": {},
     "output_type": "execute_result"
    }
   ],
   "source": [
    "x = 'water'\n",
    "x.replace('w', 'c', 1)"
   ]
  },
  {
   "cell_type": "markdown",
   "metadata": {},
   "source": [
    "### 6. Given the string S = \"What is your name?\": \n",
    "* What is returned by S[::2]? \n",
    "* What is returned by S[2:8:-1]? "
   ]
  },
  {
   "cell_type": "code",
   "execution_count": 15,
   "metadata": {},
   "outputs": [
    {
     "name": "stdout",
     "output_type": "stream",
     "text": [
      "a. Wa syu ae\n",
      "b. \n"
     ]
    }
   ],
   "source": [
    "s = \"What is your name\"\n",
    "\n",
    "print(\"a.\", s[::2])\n",
    "print(\"b.\", s[2:8:-1])"
   ]
  },
  {
   "cell_type": "markdown",
   "metadata": {},
   "source": [
    "### 7. Given the string variable x = 'acegikmoqsuwy' and y = '+bdfhjlnprtvxz', use indexing to create a string z that is the lowercase English alphabet"
   ]
  },
  {
   "cell_type": "code",
   "execution_count": 42,
   "metadata": {},
   "outputs": [
    {
     "name": "stdout",
     "output_type": "stream",
     "text": [
      "abcdefghijklmnopqrstuvwxyz\n"
     ]
    }
   ],
   "source": [
    "x = 'acegikmoqsuwy' \n",
    "y = '+bdfhjlnprtvxz'\n",
    "y = y[1:]\n",
    "z = ''\n",
    "\n",
    "for i in range(len(x)):\n",
    "    z += x[i] + y[i]\n",
    "    #z += y[-1]\n",
    "print(z)"
   ]
  },
  {
   "cell_type": "markdown",
   "metadata": {},
   "source": [
    "### 9. What will be printed by the following? \n",
    "        x = 'This is a test.' \n",
    "        print(x * 3) "
   ]
  },
  {
   "cell_type": "code",
   "execution_count": 44,
   "metadata": {},
   "outputs": [
    {
     "name": "stdout",
     "output_type": "stream",
     "text": [
      "This is a textThis is a textThis is a text\n"
     ]
    }
   ],
   "source": [
    "x = 'This is a text'\n",
    "print(x * 3)"
   ]
  },
  {
   "cell_type": "markdown",
   "metadata": {},
   "source": [
    "### 10. In the following program, replace the for  with a while loop. \n",
    "        S=\"I had a cat named amanda when I was little\" \n",
    "        count = 0 \n",
    "        for i in S: \n",
    "            if i == \"a\": \n",
    "                count += 1 \n",
    "        print(count)"
   ]
  },
  {
   "cell_type": "code",
   "execution_count": 55,
   "metadata": {},
   "outputs": [
    {
     "name": "stdout",
     "output_type": "stream",
     "text": [
      "8\n"
     ]
    }
   ],
   "source": [
    "S = \"I had a cat named amanda when I was little\" \n",
    "count = 0 \n",
    "iterable = 0\n",
    "\n",
    "while iterable < len(S):\n",
    "    if S[iterable] == \"a\":\n",
    "        count += 1\n",
    "    iterable += 1\n",
    "print(str(count))"
   ]
  },
  {
   "cell_type": "markdown",
   "metadata": {},
   "source": [
    "### 11. (String operators) The Monty Python comedy troupe has a famous skit set in a restaurant whose menu is predominately Spam—a canned meat mixture of ham and pork. One menu entry was “Spam, Spam, Spam, Spam, Spam, baked beans, Spam, Spam, Spam, and Spam.” Write a Python string expression using both the concatenation (+) and repetition (*) string operators to form that menu entry."
   ]
  },
  {
   "cell_type": "code",
   "execution_count": 62,
   "metadata": {},
   "outputs": [
    {
     "name": "stdout",
     "output_type": "stream",
     "text": [
      "SpamSpam\n"
     ]
    }
   ],
   "source": [
    "str1 = \"Spam\"\n",
    "menu_entry = str1 * 11\n",
    "#menu_entry[0:2]\n",
    "print(menu_entry[0:8])"
   ]
  },
  {
   "cell_type": "markdown",
   "metadata": {},
   "source": [
    "### 12. The following Python statement generates this error: “ValueError: too many values to unpack.” Why? \n",
    "\n",
    "    first,second = input('two space-separated numbers:') "
   ]
  },
  {
   "cell_type": "code",
   "execution_count": 1,
   "metadata": {},
   "outputs": [
    {
     "ename": "ValueError",
     "evalue": "not enough values to unpack (expected 2, got 1)",
     "output_type": "error",
     "traceback": [
      "\u001b[1;31m---------------------------------------------------------------------------\u001b[0m",
      "\u001b[1;31mValueError\u001b[0m                                Traceback (most recent call last)",
      "Cell \u001b[1;32mIn [1], line 1\u001b[0m\n\u001b[1;32m----> 1\u001b[0m first,second \u001b[38;5;241m=\u001b[39m \u001b[38;5;28minput\u001b[39m(\u001b[38;5;124m'\u001b[39m\u001b[38;5;124mtwo space-separated numbers:\u001b[39m\u001b[38;5;124m'\u001b[39m)\n",
      "\u001b[1;31mValueError\u001b[0m: not enough values to unpack (expected 2, got 1)"
     ]
    }
   ],
   "source": [
    "first,second = input('two space-separated numbers:') "
   ]
  },
  {
   "cell_type": "markdown",
   "metadata": {},
   "source": [
    "### 13. We know that writing the following code: \n",
    "        print(\"I like writing in Python.\") \n",
    "        print(\"It is so much fun.\") \n",
    "    will result in: \n",
    "        I like writing in Python. \n",
    "        It is so much fun. \n",
    "when executed. However, can you manage to do this same task with only one line of code?"
   ]
  },
  {
   "cell_type": "code",
   "execution_count": 64,
   "metadata": {},
   "outputs": [
    {
     "name": "stdout",
     "output_type": "stream",
     "text": [
      "I like writing in Python. \n",
      "It is so much fun. \n"
     ]
    }
   ],
   "source": [
    "print(\"I like writing in Python. \\nIt is so much fun. \")"
   ]
  },
  {
   "cell_type": "markdown",
   "metadata": {},
   "source": [
    "### 14. Five string methods manipulate case: capitalize, title, swapcase, upper, and lower. Consider the strings: s1 = \"concord\", s2 = \"souix city\", s3 = \"HONOLULU\", and s4 = \"TopHat\". \n",
    "* Describe what capitalize does. \n",
    "* Describe what swapcase does. \n",
    "* Describe what upper does. \n",
    "* Describe what lower does. \n",
    "* Describe what title does. "
   ]
  },
  {
   "cell_type": "code",
   "execution_count": 70,
   "metadata": {},
   "outputs": [
    {
     "name": "stdout",
     "output_type": "stream",
     "text": [
      "a. Concord\n",
      "b. tOPhAT\n",
      "c. HONOLULU\n",
      "d. tophat\n",
      "e. Souix City\n"
     ]
    }
   ],
   "source": [
    "s1 = \"concord\" \n",
    "s2 = \"souix city\"\n",
    "s3 = \"HONOLULU\"\n",
    "s4 = \"TopHat\"\n",
    "\n",
    "print(\"a.\", s1.capitalize())\n",
    "print(\"b.\", s4.swapcase())\n",
    "print(\"c.\", s3.upper())\n",
    "print(\"d.\", s4.lower())\n",
    "print(\"e.\", s2.title())"
   ]
  },
  {
   "cell_type": "markdown",
   "metadata": {},
   "source": [
    "### 15. It is possible to combine string methods in one expression. Given the expression s=\"CAT\", what is s.upper().lower() ?"
   ]
  },
  {
   "cell_type": "code",
   "execution_count": 71,
   "metadata": {},
   "outputs": [
    {
     "data": {
      "text/plain": [
       "'cat'"
      ]
     },
     "execution_count": 71,
     "metadata": {},
     "output_type": "execute_result"
    }
   ],
   "source": [
    "s=\"CAT\"\n",
    "s.upper().lower()"
   ]
  },
  {
   "cell_type": "markdown",
   "metadata": {},
   "source": [
    "### 16. Two string methods left and right justify strings within a specified width. In addition, they default by filling in with spaces but can be specified to fill in with a character. Consider s = \"Topkapi\" and s.rjust(20,\".\") or s.ljust(15). Experiment with right and left justification. Describe the rules for what ljust and rjust do"
   ]
  },
  {
   "cell_type": "code",
   "execution_count": 74,
   "metadata": {},
   "outputs": [
    {
     "name": "stdout",
     "output_type": "stream",
     "text": [
      "........Topkapi\n",
      "Topkapi........\n"
     ]
    }
   ],
   "source": [
    "s = \"Topkapi\"\n",
    "\n",
    "print(s.rjust(15,\".\"))\n",
    "print(s.ljust(15,\".\"))"
   ]
  },
  {
   "cell_type": "markdown",
   "metadata": {},
   "source": [
    "### 17. Two string methods find where a character is in a string: _find_ and _index_. \n",
    "* Both work the same if a character is found, but they behave differently if the character is not found. Describe the difference in how they behave when the character is not found. \n",
    "* The _find_ and _index_ methods are not limited to finding single characters. They can search for substrings. Given _s = \"Topkapi\"_, what does _s.find(\"kap\")_ print? Describe the rule for what _find_ prints. "
   ]
  },
  {
   "cell_type": "code",
   "execution_count": 76,
   "metadata": {},
   "outputs": [
    {
     "name": "stdout",
     "output_type": "stream",
     "text": [
      "a. The difference between the two is what happens when the search string isn't found. find() returns -1 and index() raises a ValueError.\n"
     ]
    },
    {
     "data": {
      "text/plain": [
       "3"
      ]
     },
     "execution_count": 76,
     "metadata": {},
     "output_type": "execute_result"
    }
   ],
   "source": [
    "print(\"a. The difference between the two is what happens when the search string isn't found. find() returns -1 and index() raises a ValueError.\")\n",
    "s = \"Topkapi\"\n",
    "s.find(\"kap\")"
   ]
  },
  {
   "cell_type": "markdown",
   "metadata": {},
   "source": [
    "### 18. Using the _input_ command, prompt for input and then convert the input to lowercase"
   ]
  },
  {
   "cell_type": "code",
   "execution_count": 78,
   "metadata": {},
   "outputs": [
    {
     "name": "stdout",
     "output_type": "stream",
     "text": [
      "abcdefghijklmnopqrstuvwxyz\n"
     ]
    }
   ],
   "source": [
    "user = input(\"Enter your sentence\")\n",
    "\n",
    "output = user.lower()\n",
    "print(output)"
   ]
  },
  {
   "cell_type": "markdown",
   "metadata": {},
   "source": [
    "### 19. Convert a string that is all capitals into a string where only the first letters are capitals. For example, convert \"NEW YORK\" to \"New York\"."
   ]
  },
  {
   "cell_type": "code",
   "execution_count": 80,
   "metadata": {},
   "outputs": [
    {
     "name": "stdout",
     "output_type": "stream",
     "text": [
      "New York\n"
     ]
    }
   ],
   "source": [
    "str1 = \"New York\"\n",
    "print(str1.title())"
   ]
  },
  {
   "cell_type": "markdown",
   "metadata": {},
   "source": [
    "### 20. Experiment with the count method. What does it count? \n",
    "        For example, \n",
    "        some string = \"Hello world!\" \n",
    "        some string.count(\"o\") "
   ]
  },
  {
   "cell_type": "code",
   "execution_count": 81,
   "metadata": {},
   "outputs": [
    {
     "data": {
      "text/plain": [
       "2"
      ]
     },
     "execution_count": 81,
     "metadata": {},
     "output_type": "execute_result"
    }
   ],
   "source": [
    "new_str = \"Hello world!\"\n",
    "new_str.count(\"o\")"
   ]
  },
  {
   "cell_type": "markdown",
   "metadata": {},
   "source": [
    "### 21. Experiment with the strip method. What does it do? \n",
    "        For example, \n",
    "        some string = \"Hi!......\" \n",
    "        some string.strip(\".!\")"
   ]
  },
  {
   "cell_type": "code",
   "execution_count": 83,
   "metadata": {},
   "outputs": [
    {
     "data": {
      "text/plain": [
       "'Hi'"
      ]
     },
     "execution_count": 83,
     "metadata": {},
     "output_type": "execute_result"
    }
   ],
   "source": [
    "new_str = \"Hi!......\"\n",
    "new_str.strip(\".!\")"
   ]
  },
  {
   "cell_type": "markdown",
   "metadata": {},
   "source": [
    "### 23. Let, name str = 'Albert Einstein'. How would you extract the first name and last name from name str using string operator ‘:’? "
   ]
  },
  {
   "cell_type": "code",
   "execution_count": 85,
   "metadata": {},
   "outputs": [
    {
     "name": "stdout",
     "output_type": "stream",
     "text": [
      "a. First name is: Albert\n",
      "b. Last name is: Einstein\n"
     ]
    }
   ],
   "source": [
    "str = 'Albert Einstein'\n",
    "print(\"a. First name is:\", str[:6])\n",
    "print(\"b. Last name is:\", str[7:])"
   ]
  },
  {
   "cell_type": "markdown",
   "metadata": {},
   "source": [
    "### 24. In British English, there is the word flavour. The American spelling is “flavor”. Suppose you have a string in Python called brit word = 'flavour' and you want to convert it into the American variant and store it in a string called amer word. How would you do it?"
   ]
  },
  {
   "cell_type": "code",
   "execution_count": 86,
   "metadata": {},
   "outputs": [
    {
     "name": "stdout",
     "output_type": "stream",
     "text": [
      "flavor\n"
     ]
    }
   ],
   "source": [
    "brit_word = 'flavour'\n",
    "amer_word = brit_word[:5] + '' + brit_word[6:]\n",
    "print(amer_word)"
   ]
  },
  {
   "cell_type": "markdown",
   "metadata": {},
   "source": [
    "### 26. (Reversing a string) Given a string variable X = 'Alan Turing', write an expression to reverse it to get string Y = 'gniruT nalA'. "
   ]
  },
  {
   "cell_type": "code",
   "execution_count": 88,
   "metadata": {},
   "outputs": [
    {
     "data": {
      "text/plain": [
       "'gniruT nalA'"
      ]
     },
     "execution_count": 88,
     "metadata": {},
     "output_type": "execute_result"
    }
   ],
   "source": [
    "X = 'Alan Turing'\n",
    "X[::-1]"
   ]
  },
  {
   "cell_type": "markdown",
   "metadata": {},
   "source": [
    "### 27. Suppose you have a string _ab string = 'abababababababab'_. Write an expression to remove all the _b’s_ and create a string _a string = 'aaaaaaaa'_."
   ]
  },
  {
   "cell_type": "code",
   "execution_count": 90,
   "metadata": {},
   "outputs": [
    {
     "name": "stdout",
     "output_type": "stream",
     "text": [
      "aaaaaaaa\n"
     ]
    }
   ],
   "source": [
    "ab_string = 'abababababababab'\n",
    "a_string = ab_string.replace('b', '')\n",
    "print(a_string)"
   ]
  },
  {
   "cell_type": "markdown",
   "metadata": {},
   "source": [
    "### 28. Given the string 'abcdefghij', write a single line of code that will print the following (Hint: Slicing is your friend): \n",
    "* 'jihgfedcba' \n",
    "* 'adgj' \n",
    "* 'igeca' "
   ]
  },
  {
   "cell_type": "code",
   "execution_count": 106,
   "metadata": {},
   "outputs": [
    {
     "name": "stdout",
     "output_type": "stream",
     "text": [
      "a. jihgfedcba\n",
      "b. adgj\n",
      "c. igeca\n"
     ]
    }
   ],
   "source": [
    "new_str= 'abcdefghij'\n",
    "reverse = new_str[::-1]\n",
    "\n",
    "print(\"a.\", reverse)\n",
    "print(\"b.\", new_str[0::3])\n",
    "print(\"c.\", reverse[1::2])"
   ]
  },
  {
   "cell_type": "markdown",
   "metadata": {},
   "source": [
    "### 29. Using the _find_ method, write a short program that will print out the index of both o’s when given the input _“Who’s on first?\"_"
   ]
  },
  {
   "cell_type": "code",
   "execution_count": 108,
   "metadata": {},
   "outputs": [
    {
     "data": {
      "text/plain": [
       "2"
      ]
     },
     "execution_count": 108,
     "metadata": {},
     "output_type": "execute_result"
    }
   ],
   "source": [
    "new_str = \"Who's on first?\"\n",
    "new_str.find(\"o\")"
   ]
  },
  {
   "cell_type": "markdown",
   "metadata": {},
   "source": [
    "### 30. Write a program that given a name in the form of “Chapman, Graham Arthur” will convert it to the form “Graham Arthur Chapman."
   ]
  },
  {
   "cell_type": "code",
   "execution_count": 117,
   "metadata": {},
   "outputs": [
    {
     "name": "stdout",
     "output_type": "stream",
     "text": [
      "Graham Arthur Chapman\n"
     ]
    }
   ],
   "source": [
    "new_str = \"Chapman, Graham Arthur\"\n",
    "first, middle, last = new_str.split()\n",
    "converted = middle + ' ' + last + ' ' + first[:7]\n",
    "print(converted)"
   ]
  },
  {
   "cell_type": "markdown",
   "metadata": {},
   "source": [
    "### 31. The expression ‘dog’ + ‘s’ will return ‘dogs’. What is returned by the expression ‘dog’− ‘g’ ? Explain."
   ]
  },
  {
   "cell_type": "code",
   "execution_count": 119,
   "metadata": {},
   "outputs": [
    {
     "name": "stdout",
     "output_type": "stream",
     "text": [
      "dogs\n"
     ]
    },
    {
     "ename": "TypeError",
     "evalue": "unsupported operand type(s) for -: 'str' and 'str'",
     "output_type": "error",
     "traceback": [
      "\u001b[1;31m---------------------------------------------------------------------------\u001b[0m",
      "\u001b[1;31mTypeError\u001b[0m                                 Traceback (most recent call last)",
      "Cell \u001b[1;32mIn [119], line 2\u001b[0m\n\u001b[0;32m      1\u001b[0m \u001b[39mprint\u001b[39m(\u001b[39m'\u001b[39m\u001b[39mdog\u001b[39m\u001b[39m'\u001b[39m \u001b[39m+\u001b[39m \u001b[39m'\u001b[39m\u001b[39ms\u001b[39m\u001b[39m'\u001b[39m)\n\u001b[1;32m----> 2\u001b[0m \u001b[39mprint\u001b[39m(\u001b[39m'\u001b[39;49m\u001b[39mdog\u001b[39;49m\u001b[39m'\u001b[39;49m \u001b[39m-\u001b[39;49m \u001b[39m'\u001b[39;49m\u001b[39mg\u001b[39;49m\u001b[39m'\u001b[39;49m)\n",
      "\u001b[1;31mTypeError\u001b[0m: unsupported operand type(s) for -: 'str' and 'str'"
     ]
    }
   ],
   "source": [
    "print('dog' + 's')\n",
    "print('dog' - 'g')"
   ]
  },
  {
   "cell_type": "code",
   "execution_count": null,
   "metadata": {},
   "outputs": [],
   "source": []
  }
 ],
 "metadata": {
  "kernelspec": {
   "display_name": "Python 3.9.7 64-bit",
   "language": "python",
   "name": "python3"
  },
  "language_info": {
   "codemirror_mode": {
    "name": "ipython",
    "version": 3
   },
   "file_extension": ".py",
   "mimetype": "text/x-python",
   "name": "python",
   "nbconvert_exporter": "python",
   "pygments_lexer": "ipython3",
   "version": "3.10.0"
  },
  "orig_nbformat": 4,
  "vscode": {
   "interpreter": {
    "hash": "f44a971b6fee70a18eb961a728c4c2bf164ef47e0339fc88364546047bf7704d"
   }
  }
 },
 "nbformat": 4,
 "nbformat_minor": 2
}
